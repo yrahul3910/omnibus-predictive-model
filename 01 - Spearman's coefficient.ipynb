{
 "cells": [
  {
   "cell_type": "code",
   "execution_count": 1,
   "metadata": {},
   "outputs": [],
   "source": [
    "import pandas as pd\n",
    "import numpy as np\n",
    "import scipy.stats as st"
   ]
  },
  {
   "cell_type": "code",
   "execution_count": 2,
   "metadata": {},
   "outputs": [],
   "source": [
    "df = pd.read_excel('adel.xlsx', sheet_name=1, index_col=0)"
   ]
  },
  {
   "cell_type": "code",
   "execution_count": 3,
   "metadata": {},
   "outputs": [
    {
     "data": {
      "text/html": [
       "<div>\n",
       "<style scoped>\n",
       "    .dataframe tbody tr th:only-of-type {\n",
       "        vertical-align: middle;\n",
       "    }\n",
       "\n",
       "    .dataframe tbody tr th {\n",
       "        vertical-align: top;\n",
       "    }\n",
       "\n",
       "    .dataframe thead th {\n",
       "        text-align: right;\n",
       "    }\n",
       "</style>\n",
       "<table border=\"1\" class=\"dataframe\">\n",
       "  <thead>\n",
       "    <tr style=\"text-align: right;\">\n",
       "      <th></th>\n",
       "      <th>v1</th>\n",
       "      <th>v2</th>\n",
       "      <th>v3</th>\n",
       "      <th>v4</th>\n",
       "      <th>v5</th>\n",
       "      <th>v6</th>\n",
       "      <th>v7</th>\n",
       "      <th>v8</th>\n",
       "      <th>v9</th>\n",
       "      <th>v10</th>\n",
       "      <th>...</th>\n",
       "      <th>v16</th>\n",
       "      <th>v17</th>\n",
       "      <th>v18</th>\n",
       "      <th>v19</th>\n",
       "      <th>v20</th>\n",
       "      <th>v21</th>\n",
       "      <th>v22</th>\n",
       "      <th>v23</th>\n",
       "      <th>v24</th>\n",
       "      <th>v25</th>\n",
       "    </tr>\n",
       "    <tr>\n",
       "      <th>ID</th>\n",
       "      <th></th>\n",
       "      <th></th>\n",
       "      <th></th>\n",
       "      <th></th>\n",
       "      <th></th>\n",
       "      <th></th>\n",
       "      <th></th>\n",
       "      <th></th>\n",
       "      <th></th>\n",
       "      <th></th>\n",
       "      <th></th>\n",
       "      <th></th>\n",
       "      <th></th>\n",
       "      <th></th>\n",
       "      <th></th>\n",
       "      <th></th>\n",
       "      <th></th>\n",
       "      <th></th>\n",
       "      <th></th>\n",
       "      <th></th>\n",
       "      <th></th>\n",
       "    </tr>\n",
       "  </thead>\n",
       "  <tbody>\n",
       "    <tr>\n",
       "      <th>1</th>\n",
       "      <td>43</td>\n",
       "      <td>4205</td>\n",
       "      <td>20</td>\n",
       "      <td>210.25</td>\n",
       "      <td>97.79</td>\n",
       "      <td>3442.75</td>\n",
       "      <td>40.08</td>\n",
       "      <td>1.19</td>\n",
       "      <td>21</td>\n",
       "      <td>43</td>\n",
       "      <td>...</td>\n",
       "      <td>269.87</td>\n",
       "      <td>60.66</td>\n",
       "      <td>19.83</td>\n",
       "      <td>172.13</td>\n",
       "      <td>4.003023</td>\n",
       "      <td>1.00</td>\n",
       "      <td>98.0</td>\n",
       "      <td>100.0</td>\n",
       "      <td>8</td>\n",
       "      <td>6.722689</td>\n",
       "    </tr>\n",
       "    <tr>\n",
       "      <th>2</th>\n",
       "      <td>143</td>\n",
       "      <td>5344</td>\n",
       "      <td>26</td>\n",
       "      <td>205.54</td>\n",
       "      <td>37.37</td>\n",
       "      <td>2420.70</td>\n",
       "      <td>76.96</td>\n",
       "      <td>2.30</td>\n",
       "      <td>35</td>\n",
       "      <td>72</td>\n",
       "      <td>...</td>\n",
       "      <td>221.73</td>\n",
       "      <td>58.26</td>\n",
       "      <td>23.83</td>\n",
       "      <td>93.10</td>\n",
       "      <td>0.651049</td>\n",
       "      <td>0.96</td>\n",
       "      <td>86.4</td>\n",
       "      <td>97.9</td>\n",
       "      <td>9</td>\n",
       "      <td>3.910000</td>\n",
       "    </tr>\n",
       "    <tr>\n",
       "      <th>3</th>\n",
       "      <td>77</td>\n",
       "      <td>4760</td>\n",
       "      <td>24</td>\n",
       "      <td>198.33</td>\n",
       "      <td>61.82</td>\n",
       "      <td>2727.50</td>\n",
       "      <td>39.62</td>\n",
       "      <td>2.36</td>\n",
       "      <td>36</td>\n",
       "      <td>68</td>\n",
       "      <td>...</td>\n",
       "      <td>256.38</td>\n",
       "      <td>55.42</td>\n",
       "      <td>23.92</td>\n",
       "      <td>113.64</td>\n",
       "      <td>1.475844</td>\n",
       "      <td>1.17</td>\n",
       "      <td>91.7</td>\n",
       "      <td>100.0</td>\n",
       "      <td>16</td>\n",
       "      <td>6.780000</td>\n",
       "    </tr>\n",
       "    <tr>\n",
       "      <th>4</th>\n",
       "      <td>723</td>\n",
       "      <td>24186</td>\n",
       "      <td>49</td>\n",
       "      <td>493.59</td>\n",
       "      <td>33.45</td>\n",
       "      <td>7241.18</td>\n",
       "      <td>273.80</td>\n",
       "      <td>3.77</td>\n",
       "      <td>77</td>\n",
       "      <td>129</td>\n",
       "      <td>...</td>\n",
       "      <td>349.13</td>\n",
       "      <td>87.00</td>\n",
       "      <td>45.40</td>\n",
       "      <td>147.77</td>\n",
       "      <td>0.204385</td>\n",
       "      <td>0.73</td>\n",
       "      <td>55.8</td>\n",
       "      <td>69.6</td>\n",
       "      <td>24</td>\n",
       "      <td>6.370000</td>\n",
       "    </tr>\n",
       "    <tr>\n",
       "      <th>5</th>\n",
       "      <td>238</td>\n",
       "      <td>9549</td>\n",
       "      <td>39</td>\n",
       "      <td>244.85</td>\n",
       "      <td>40.12</td>\n",
       "      <td>3592.97</td>\n",
       "      <td>86.61</td>\n",
       "      <td>4.10</td>\n",
       "      <td>55</td>\n",
       "      <td>94</td>\n",
       "      <td>...</td>\n",
       "      <td>225.29</td>\n",
       "      <td>66.68</td>\n",
       "      <td>28.20</td>\n",
       "      <td>92.12</td>\n",
       "      <td>0.387059</td>\n",
       "      <td>0.74</td>\n",
       "      <td>78.2</td>\n",
       "      <td>94.1</td>\n",
       "      <td>18</td>\n",
       "      <td>4.390000</td>\n",
       "    </tr>\n",
       "  </tbody>\n",
       "</table>\n",
       "<p>5 rows × 25 columns</p>\n",
       "</div>"
      ],
      "text/plain": [
       "     v1     v2  v3      v4     v5       v6      v7    v8  v9  v10    ...     \\\n",
       "ID                                                                   ...      \n",
       "1    43   4205  20  210.25  97.79  3442.75   40.08  1.19  21   43    ...      \n",
       "2   143   5344  26  205.54  37.37  2420.70   76.96  2.30  35   72    ...      \n",
       "3    77   4760  24  198.33  61.82  2727.50   39.62  2.36  36   68    ...      \n",
       "4   723  24186  49  493.59  33.45  7241.18  273.80  3.77  77  129    ...      \n",
       "5   238   9549  39  244.85  40.12  3592.97   86.61  4.10  55   94    ...      \n",
       "\n",
       "       v16    v17    v18     v19       v20   v21   v22    v23  v24       v25  \n",
       "ID                                                                            \n",
       "1   269.87  60.66  19.83  172.13  4.003023  1.00  98.0  100.0    8  6.722689  \n",
       "2   221.73  58.26  23.83   93.10  0.651049  0.96  86.4   97.9    9  3.910000  \n",
       "3   256.38  55.42  23.92  113.64  1.475844  1.17  91.7  100.0   16  6.780000  \n",
       "4   349.13  87.00  45.40  147.77  0.204385  0.73  55.8   69.6   24  6.370000  \n",
       "5   225.29  66.68  28.20   92.12  0.387059  0.74  78.2   94.1   18  4.390000  \n",
       "\n",
       "[5 rows x 25 columns]"
      ]
     },
     "execution_count": 3,
     "metadata": {},
     "output_type": "execute_result"
    }
   ],
   "source": [
    "df.head()"
   ]
  },
  {
   "cell_type": "code",
   "execution_count": 4,
   "metadata": {},
   "outputs": [
    {
     "name": "stdout",
     "output_type": "stream",
     "text": [
      "<class 'pandas.core.frame.DataFrame'>\n",
      "Int64Index: 618 entries, 1 to 618\n",
      "Data columns (total 25 columns):\n",
      "v1     618 non-null int64\n",
      "v2     618 non-null int64\n",
      "v3     618 non-null int64\n",
      "v4     618 non-null float64\n",
      "v5     618 non-null float64\n",
      "v6     618 non-null float64\n",
      "v7     618 non-null float64\n",
      "v8     618 non-null float64\n",
      "v9     618 non-null int64\n",
      "v10    618 non-null int64\n",
      "v11    618 non-null int64\n",
      "v12    618 non-null float64\n",
      "v13    618 non-null int64\n",
      "v14    618 non-null float64\n",
      "v15    618 non-null float64\n",
      "v16    618 non-null float64\n",
      "v17    618 non-null float64\n",
      "v18    618 non-null float64\n",
      "v19    618 non-null float64\n",
      "v20    618 non-null float64\n",
      "v21    618 non-null float64\n",
      "v22    618 non-null float64\n",
      "v23    618 non-null float64\n",
      "v24    618 non-null int64\n",
      "v25    618 non-null float64\n",
      "dtypes: float64(17), int64(8)\n",
      "memory usage: 125.5 KB\n"
     ]
    }
   ],
   "source": [
    "df.info()"
   ]
  },
  {
   "cell_type": "code",
   "execution_count": 5,
   "metadata": {},
   "outputs": [],
   "source": [
    "correlation, p_values = st.spearmanr(df)"
   ]
  },
  {
   "cell_type": "code",
   "execution_count": 6,
   "metadata": {},
   "outputs": [
    {
     "data": {
      "text/plain": [
       "(25, 25)"
      ]
     },
     "execution_count": 6,
     "metadata": {},
     "output_type": "execute_result"
    }
   ],
   "source": [
    "correlation.shape"
   ]
  },
  {
   "cell_type": "code",
   "execution_count": 11,
   "metadata": {},
   "outputs": [
    {
     "data": {
      "text/plain": [
       "0.4208"
      ]
     },
     "execution_count": 11,
     "metadata": {},
     "output_type": "execute_result"
    }
   ],
   "source": [
    "collapsed_correlation = correlation.reshape(625)\n",
    "threshold = 0.80\n",
    "((collapsed_correlation >= threshold).sum() + (collapsed_correlation <= -threshold).sum()) / len(collapsed_correlation)"
   ]
  },
  {
   "cell_type": "markdown",
   "metadata": {},
   "source": [
    "It seems there are only positive monotonic relationships, and several of them. We need to find a way to form equations."
   ]
  },
  {
   "cell_type": "code",
   "execution_count": null,
   "metadata": {},
   "outputs": [],
   "source": []
  }
 ],
 "metadata": {
  "kernelspec": {
   "display_name": "Python 3",
   "language": "python",
   "name": "python3"
  },
  "language_info": {
   "codemirror_mode": {
    "name": "ipython",
    "version": 3
   },
   "file_extension": ".py",
   "mimetype": "text/x-python",
   "name": "python",
   "nbconvert_exporter": "python",
   "pygments_lexer": "ipython3",
   "version": "3.7.1"
  }
 },
 "nbformat": 4,
 "nbformat_minor": 2
}
