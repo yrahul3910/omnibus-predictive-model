{
 "cells": [
  {
   "cell_type": "code",
   "execution_count": 12,
   "metadata": {},
   "outputs": [],
   "source": [
    "import pandas as pd\n",
    "import numpy as np\n",
    "from sklearn.cluster import DBSCAN, MeanShift\n",
    "from sklearn.preprocessing import StandardScaler\n",
    "from IPython.display import Markdown, display\n",
    "\n",
    "import seaborn as sns"
   ]
  },
  {
   "cell_type": "code",
   "execution_count": 2,
   "metadata": {},
   "outputs": [],
   "source": [
    "df = pd.read_excel('adel.xlsx', sheet_name=1, index_col=0)"
   ]
  },
  {
   "cell_type": "code",
   "execution_count": 3,
   "metadata": {},
   "outputs": [],
   "source": [
    "desired_columns = ['v' + str(x) for x in range(9, 22)]\n",
    "desired_columns.append('v24')"
   ]
  },
  {
   "cell_type": "code",
   "execution_count": 4,
   "metadata": {},
   "outputs": [],
   "source": [
    "df = df[desired_columns]"
   ]
  },
  {
   "cell_type": "code",
   "execution_count": 5,
   "metadata": {},
   "outputs": [],
   "source": [
    "scaler = StandardScaler()"
   ]
  },
  {
   "cell_type": "code",
   "execution_count": 6,
   "metadata": {},
   "outputs": [
    {
     "name": "stderr",
     "output_type": "stream",
     "text": [
      "/home/yrahul/.local/lib/python3.6/site-packages/sklearn/preprocessing/data.py:617: DataConversionWarning: Data with input dtype int64, float64 were all converted to float64 by StandardScaler.\n",
      "  return self.partial_fit(X, y)\n",
      "/home/yrahul/.local/lib/python3.6/site-packages/sklearn/base.py:462: DataConversionWarning: Data with input dtype int64, float64 were all converted to float64 by StandardScaler.\n",
      "  return self.fit(X, **fit_params).transform(X)\n"
     ]
    }
   ],
   "source": [
    "df = scaler.fit_transform(df)"
   ]
  },
  {
   "cell_type": "markdown",
   "metadata": {},
   "source": [
    "## DBSCAN"
   ]
  },
  {
   "cell_type": "code",
   "execution_count": 11,
   "metadata": {},
   "outputs": [
    {
     "name": "stdout",
     "output_type": "stream",
     "text": [
      "eps = 1.6739999999999264\n",
      "labels = [-1  0]\n",
      "number of individual clusters = 60\n"
     ]
    },
    {
     "data": {
      "text/markdown": [
       "Cluster|# Points\n",
       "---:|:---\n",
       "-1|60\n",
       "0|558\n"
      ],
      "text/plain": [
       "<IPython.core.display.Markdown object>"
      ]
     },
     "metadata": {},
     "output_type": "display_data"
    }
   ],
   "source": [
    "eps = 0.001\n",
    "\n",
    "while True:\n",
    "    labels = DBSCAN(eps=eps).fit_predict(df)\n",
    "    if sum(labels == -1) <= 60:\n",
    "        break\n",
    "    \n",
    "    eps += 0.001\n",
    "\n",
    "print('eps =', eps)\n",
    "print('labels =', np.unique(labels))\n",
    "print('number of individual clusters =', sum(labels == -1))\n",
    "\n",
    "table = 'Cluster|# Points\\n---:|:---\\n'\n",
    "for i in range(len(np.unique(labels))):\n",
    "    table += str(i-1) + '|'  # To account for -1\n",
    "    table += str(sum(labels == i-1))\n",
    "    table += '\\n'\n",
    "\n",
    "display(Markdown(table))"
   ]
  },
  {
   "cell_type": "markdown",
   "metadata": {},
   "source": [
    "### DBSCAN after MinMax scaling"
   ]
  },
  {
   "cell_type": "code",
   "execution_count": 14,
   "metadata": {},
   "outputs": [],
   "source": [
    "from sklearn.preprocessing import MinMaxScaler"
   ]
  },
  {
   "cell_type": "code",
   "execution_count": 15,
   "metadata": {},
   "outputs": [
    {
     "name": "stderr",
     "output_type": "stream",
     "text": [
      "/home/yrahul/.local/lib/python3.6/site-packages/sklearn/preprocessing/data.py:323: DataConversionWarning: Data with input dtype int64, float64 were all converted to float64 by MinMaxScaler.\n",
      "  return self.partial_fit(X, y)\n"
     ]
    }
   ],
   "source": [
    "df = pd.read_excel('adel.xlsx', sheet_name=1, index_col=0)\n",
    "desired_columns = ['v' + str(x) for x in range(9, 22)]\n",
    "desired_columns.append('v24')\n",
    "\n",
    "df = df[desired_columns]\n",
    "\n",
    "scaler = MinMaxScaler(feature_range=(0,100))\n",
    "df = scaler.fit_transform(df)"
   ]
  },
  {
   "cell_type": "code",
   "execution_count": 24,
   "metadata": {},
   "outputs": [
    {
     "name": "stdout",
     "output_type": "stream",
     "text": [
      "eps = 21.600000000000577\n",
      "labels = [-1  0]\n",
      "number of individual clusters = 60\n"
     ]
    },
    {
     "data": {
      "text/markdown": [
       "Cluster|# Points\n",
       "---:|:---\n",
       "-1|60\n",
       "0|558\n"
      ],
      "text/plain": [
       "<IPython.core.display.Markdown object>"
      ]
     },
     "metadata": {},
     "output_type": "display_data"
    }
   ],
   "source": [
    "eps = 0.01\n",
    "\n",
    "while True:\n",
    "    labels = DBSCAN(eps=eps).fit_predict(df)\n",
    "    if sum(labels == -1) <= 60:\n",
    "        break\n",
    "    \n",
    "    eps += 0.01\n",
    "\n",
    "print('eps =', eps)\n",
    "print('labels =', np.unique(labels))\n",
    "print('number of individual clusters =', sum(labels == -1))\n",
    "\n",
    "table = 'Cluster|# Points\\n---:|:---\\n'\n",
    "for i in range(len(np.unique(labels))):\n",
    "    table += str(i-1) + '|'  # To account for -1\n",
    "    table += str(sum(labels == i-1))\n",
    "    table += '\\n'\n",
    "\n",
    "display(Markdown(table))"
   ]
  },
  {
   "cell_type": "markdown",
   "metadata": {},
   "source": [
    "## Mean Shift"
   ]
  },
  {
   "cell_type": "code",
   "execution_count": 13,
   "metadata": {},
   "outputs": [
    {
     "name": "stdout",
     "output_type": "stream",
     "text": [
      "[ 0  1  2  3  4  5  6  7  8  9 10 11 12 13 14 15 16 17 18 19 20 21 22 23]\n"
     ]
    }
   ],
   "source": [
    "ms = MeanShift()\n",
    "preds = ms.fit_predict(df)\n",
    "print(np.unique(preds))"
   ]
  },
  {
   "cell_type": "code",
   "execution_count": 17,
   "metadata": {},
   "outputs": [
    {
     "data": {
      "text/markdown": [
       "Cluster|# Points\n",
       "---:|:---\n",
       "0|511\n",
       "1|55\n",
       "2|7\n",
       "3|9\n",
       "4|5\n",
       "5|1\n",
       "6|1\n",
       "7|1\n",
       "8|1\n",
       "9|1\n",
       "10|1\n",
       "11|1\n",
       "12|1\n",
       "13|1\n",
       "14|1\n",
       "15|1\n",
       "16|1\n",
       "17|1\n",
       "18|1\n",
       "19|1\n",
       "20|1\n",
       "21|13\n",
       "22|1\n",
       "23|1\n"
      ],
      "text/plain": [
       "<IPython.core.display.Markdown object>"
      ]
     },
     "metadata": {},
     "output_type": "display_data"
    }
   ],
   "source": [
    "table = 'Cluster|# Points\\n---:|:---\\n'\n",
    "for i in range(24):\n",
    "    table += str(i) + '|'\n",
    "    table += str(sum(preds == i))\n",
    "    table += '\\n'\n",
    "\n",
    "display(Markdown(table))"
   ]
  },
  {
   "cell_type": "code",
   "execution_count": 18,
   "metadata": {},
   "outputs": [],
   "source": [
    "ind = np.where(preds == 21)[0]\n",
    "preds[ind] = -2"
   ]
  },
  {
   "cell_type": "code",
   "execution_count": 19,
   "metadata": {},
   "outputs": [],
   "source": [
    "ind = np.where(preds >= 5)[0]\n",
    "preds[ind] = -1"
   ]
  },
  {
   "cell_type": "code",
   "execution_count": 20,
   "metadata": {},
   "outputs": [],
   "source": [
    "ind = np.where(preds == -2)[0]\n",
    "preds[ind] = 5"
   ]
  },
  {
   "cell_type": "code",
   "execution_count": 22,
   "metadata": {},
   "outputs": [
    {
     "data": {
      "text/markdown": [
       "Cluster|# Points\n",
       "---:|:---\n",
       "-1|18\n",
       "0|511\n",
       "1|55\n",
       "2|7\n",
       "3|9\n",
       "4|5\n",
       "5|13\n"
      ],
      "text/plain": [
       "<IPython.core.display.Markdown object>"
      ]
     },
     "metadata": {},
     "output_type": "display_data"
    }
   ],
   "source": [
    "table = 'Cluster|# Points\\n---:|:---\\n'\n",
    "for i in range(-1, 6):\n",
    "    table += str(i) + '|'\n",
    "    table += str(sum(preds == i))\n",
    "    table += '\\n'\n",
    "\n",
    "display(Markdown(table))"
   ]
  },
  {
   "cell_type": "markdown",
   "metadata": {},
   "source": [
    "### Mean-Shift with min-max scaling"
   ]
  },
  {
   "cell_type": "code",
   "execution_count": 25,
   "metadata": {},
   "outputs": [
    {
     "name": "stdout",
     "output_type": "stream",
     "text": [
      "[ 0  1  2  3  4  5  6  7  8  9 10 11 12 13 14 15 16 17 18 19 20]\n"
     ]
    }
   ],
   "source": [
    "ms = MeanShift()\n",
    "preds = ms.fit_predict(df)\n",
    "print(np.unique(preds))"
   ]
  },
  {
   "cell_type": "code",
   "execution_count": 26,
   "metadata": {},
   "outputs": [
    {
     "data": {
      "text/markdown": [
       "Cluster|# Points\n",
       "---:|:---\n",
       "0|507\n",
       "1|62\n",
       "2|17\n",
       "3|2\n",
       "4|1\n",
       "5|1\n",
       "6|1\n",
       "7|1\n",
       "8|1\n",
       "9|1\n",
       "10|1\n",
       "11|1\n",
       "12|1\n",
       "13|1\n",
       "14|1\n",
       "15|2\n",
       "16|1\n",
       "17|1\n",
       "18|1\n",
       "19|7\n",
       "20|7\n"
      ],
      "text/plain": [
       "<IPython.core.display.Markdown object>"
      ]
     },
     "metadata": {},
     "output_type": "display_data"
    }
   ],
   "source": [
    "table = 'Cluster|# Points\\n---:|:---\\n'\n",
    "for i in range(21):\n",
    "    table += str(i) + '|'\n",
    "    table += str(sum(preds == i))\n",
    "    table += '\\n'\n",
    "\n",
    "display(Markdown(table))"
   ]
  },
  {
   "cell_type": "code",
   "execution_count": null,
   "metadata": {},
   "outputs": [],
   "source": []
  }
 ],
 "metadata": {
  "kernelspec": {
   "display_name": "Python3.6",
   "language": "python",
   "name": "python3.6"
  },
  "language_info": {
   "codemirror_mode": {
    "name": "ipython",
    "version": 3
   },
   "file_extension": ".py",
   "mimetype": "text/x-python",
   "name": "python",
   "nbconvert_exporter": "python",
   "pygments_lexer": "ipython3",
   "version": "3.6.7"
  }
 },
 "nbformat": 4,
 "nbformat_minor": 2
}
