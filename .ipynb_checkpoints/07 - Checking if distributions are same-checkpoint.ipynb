{
 "cells": [
  {
   "cell_type": "code",
   "execution_count": 3,
   "metadata": {},
   "outputs": [],
   "source": [
    "from scipy.stats import ks_2samp, shapiro\n",
    "from itertools import combinations\n",
    "from IPython.display import display, Markdown\n",
    "import pandas as pd\n",
    "import numpy as np\n",
    "import matplotlib.pyplot as plt"
   ]
  },
  {
   "cell_type": "code",
   "execution_count": 4,
   "metadata": {},
   "outputs": [],
   "source": [
    "df = pd.read_excel('adel.xlsx', sheet_name=1, index_col=0)"
   ]
  },
  {
   "cell_type": "code",
   "execution_count": 5,
   "metadata": {},
   "outputs": [],
   "source": [
    "desired_columns = ['v' + str(x) for x in list(range(9, 22))]\n",
    "desired_columns.append('v24')"
   ]
  },
  {
   "cell_type": "code",
   "execution_count": 6,
   "metadata": {},
   "outputs": [],
   "source": [
    "df = df[desired_columns]"
   ]
  },
  {
   "cell_type": "code",
   "execution_count": 7,
   "metadata": {},
   "outputs": [],
   "source": [
    "pairs = list(combinations(df.columns, 2))"
   ]
  },
  {
   "cell_type": "code",
   "execution_count": 8,
   "metadata": {},
   "outputs": [
    {
     "data": {
      "text/plain": [
       "[('v9', 'v10'), ('v9', 'v11'), ('v9', 'v12'), ('v9', 'v13'), ('v9', 'v14')]"
      ]
     },
     "execution_count": 8,
     "metadata": {},
     "output_type": "execute_result"
    }
   ],
   "source": [
    "pairs[:5]"
   ]
  },
  {
   "cell_type": "code",
   "execution_count": 9,
   "metadata": {},
   "outputs": [
    {
     "data": {
      "text/markdown": [
       "$C_1$|$C_2$|p-value|Significant\n",
       "---:|:---:|:---:|:---\n",
       "v9|v10|2.1316576031963687e-14|True\n",
       "v9|v11|0.006599617365015516|True\n",
       "v9|v12|5.2097920515509556e-52|True\n",
       "v9|v13|3.9228987531025377e-07|True\n",
       "v9|v14|1.6286578445611193e-36|True\n",
       "v9|v15|1.0048086835620383e-06|True\n",
       "v9|v16|1.0877556018629886e-09|True\n",
       "v9|v17|1.5788959829565686e-09|True\n",
       "v9|v18|9.23530641474916e-22|True\n",
       "v9|v19|4.105668218199673e-17|True\n",
       "v9|v20|1.5719084595804894e-207|True\n",
       "v9|v21|1.218283121056956e-217|True\n",
       "v9|v24|1.1243635626327925e-119|True\n",
       "v10|v11|2.9603183071352492e-27|True\n",
       "v10|v12|7.23697036614588e-82|True\n",
       "v10|v13|3.693112886355082e-37|True\n",
       "v10|v14|7.880529722310189e-16|True\n",
       "v10|v15|6.280185602015041e-35|True\n",
       "v10|v16|1.9551854899132318e-08|True\n",
       "v10|v17|0.0029623522809080426|True\n",
       "v10|v18|1.4835819179118135e-53|True\n",
       "v10|v19|1.4521804533697052e-31|True\n",
       "v10|v20|1.5719084595804894e-207|True\n",
       "v10|v21|1.218283121056956e-217|True\n",
       "v10|v24|1.0644037801978823e-134|True\n",
       "v11|v12|6.446970712589501e-44|True\n",
       "v11|v13|0.0005098433429276382|True\n",
       "v11|v14|1.0276802259674427e-56|True\n",
       "v11|v15|0.0005098433429276382|True\n",
       "v11|v16|8.965004195571914e-18|True\n",
       "v11|v17|1.341514554480243e-19|True\n",
       "v11|v18|1.1138089133647078e-16|True\n",
       "v11|v19|3.1672387789205334e-13|True\n",
       "v11|v20|3.4740558887470016e-202|True\n",
       "v11|v21|3.629950302091886e-212|True\n",
       "v11|v24|4.680846299920078e-115|True\n",
       "v12|v13|5.587535513291347e-27|True\n",
       "v12|v14|5.766400003814513e-97|True\n",
       "v12|v15|7.300065593245655e-32|True\n",
       "v12|v16|1.60911451389804e-42|True\n",
       "v12|v17|1.2985366527888024e-67|True\n",
       "v12|v18|1.9551854899132665e-08|True\n",
       "v12|v19|1.3440026019042732e-14|True\n",
       "v12|v20|5.22972323791168e-148|True\n",
       "v12|v21|6.317252093398675e-152|True\n",
       "v12|v24|1.2528159972385136e-115|True\n",
       "v13|v14|4.820939245773488e-62|True\n",
       "v13|v15|4.511928992202451e-06|True\n",
       "v13|v16|1.3415145544802623e-19|True\n",
       "v13|v17|3.164057150592658e-29|True\n",
       "v13|v18|2.0613932447541109e-07|True\n",
       "v13|v19|4.734407289233498e-09|True\n",
       "v13|v20|1.0495215844634272e-203|True\n",
       "v13|v21|1.0068988673645489e-213|True\n",
       "v13|v24|8.827043800134481e-113|True\n",
       "v14|v15|2.5809512600936793e-56|True\n",
       "v14|v16|2.1316576031963687e-14|True\n",
       "v14|v17|5.0003190764984965e-21|True\n",
       "v14|v18|8.074432375147265e-70|True\n",
       "v14|v19|1.6091145138981085e-42|True\n",
       "v14|v20|1.4285520652716437e-186|True\n",
       "v14|v21|1.164542039578904e-197|True\n",
       "v14|v24|2.5563463459932733e-135|True\n",
       "v15|v16|5.363165763306557e-18|True\n",
       "v15|v17|6.647320990238789e-19|True\n",
       "v15|v18|2.3712923585019535e-10|True\n",
       "v15|v19|6.7824222352543894e-09|True\n",
       "v15|v20|1.6953716450767097e-189|True\n",
       "v15|v21|2.0677584683556555e-198|True\n",
       "v15|v24|2.5563463459932733e-135|True\n",
       "v16|v17|0.0004031771414000739|True\n",
       "v16|v18|1.5993440755480116e-23|True\n",
       "v16|v19|3.2939777687060947e-09|True\n",
       "v16|v20|2.3442245384780406e-165|True\n",
       "v16|v21|2.1593985339555923e-174|True\n",
       "v16|v24|1.2528159972385136e-115|True\n",
       "v17|v18|3.403375533888429e-36|True\n",
       "v17|v19|5.22497657058374e-22|True\n",
       "v17|v20|2.039702286417232e-195|True\n",
       "v17|v21|3.12926947574337e-205|True\n",
       "v17|v24|1.8272694727282616e-133|True\n",
       "v18|v19|7.111955753362999e-05|True\n",
       "v18|v20|1.6968064471721685e-169|True\n",
       "v18|v21|2.3397622836573897e-179|True\n",
       "v18|v24|1.2528159972385136e-115|True\n",
       "v19|v20|5.862470700132173e-141|True\n",
       "v19|v21|5.229723237911086e-148|True\n",
       "v19|v24|4.680846299920078e-115|True\n",
       "v20|v21|2.294588903259932e-19|True\n",
       "v20|v24|4.680846299920078e-115|True\n",
       "v21|v24|8.827043800134481e-113|True\n"
      ],
      "text/plain": [
       "<IPython.core.display.Markdown object>"
      ]
     },
     "metadata": {},
     "output_type": "display_data"
    }
   ],
   "source": [
    "table = '$C_1$|$C_2$|p-value|Significant\\n---:|:---:|:---:|:---\\n'\n",
    "pvalues = []\n",
    "\n",
    "for c1, c2 in pairs:\n",
    "    pvalue = ks_2samp(df[c1], df[c2])[1]\n",
    "    pvalues.append(pvalue)\n",
    "    table += '{0}|{1}|{2}|{3}\\n'.format(c1, c2, pvalue, pvalue <= 0.05)\n",
    "\n",
    "display(Markdown(table))"
   ]
  },
  {
   "cell_type": "code",
   "execution_count": 12,
   "metadata": {},
   "outputs": [
    {
     "data": {
      "text/plain": [
       "True"
      ]
     },
     "execution_count": 12,
     "metadata": {},
     "output_type": "execute_result"
    }
   ],
   "source": [
    "all(pvalues)"
   ]
  },
  {
   "cell_type": "code",
   "execution_count": 10,
   "metadata": {},
   "outputs": [
    {
     "data": {
      "text/plain": [
       "(0.7507186532020569, 1.7853335977915988e-29)"
      ]
     },
     "execution_count": 10,
     "metadata": {},
     "output_type": "execute_result"
    }
   ],
   "source": [
    "shapiro(df['v9'])"
   ]
  },
  {
   "cell_type": "markdown",
   "metadata": {},
   "source": [
    "The distributions are all the same, but do not follow a Normal distribution."
   ]
  },
  {
   "cell_type": "code",
   "execution_count": 11,
   "metadata": {},
   "outputs": [
    {
     "data": {
      "image/png": "[encoded data removed]",
      "text/plain": [
       "<Figure size 432x288 with 1 Axes>"
      ]
     },
     "metadata": {
      "needs_background": "light"
     },
     "output_type": "display_data"
    }
   ],
   "source": [
    "plt.hist(df['v9']);"
   ]
  },
  {
   "cell_type": "code",
   "execution_count": null,
   "metadata": {},
   "outputs": [],
   "source": []
  }
 ],
 "metadata": {
  "kernelspec": {
   "display_name": "Python3.6",
   "language": "python",
   "name": "python3.6"
  },
  "language_info": {
   "codemirror_mode": {
    "name": "ipython",
    "version": 3
   },
   "file_extension": ".py",
   "mimetype": "text/x-python",
   "name": "python",
   "nbconvert_exporter": "python",
   "pygments_lexer": "ipython3",
   "version": "3.6.7"
  }
 },
 "nbformat": 4,
 "nbformat_minor": 2
}
