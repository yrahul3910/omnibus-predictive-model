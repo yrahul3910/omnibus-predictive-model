{
 "cells": [
  {
   "cell_type": "code",
   "execution_count": 1,
   "metadata": {},
   "outputs": [],
   "source": [
    "import numpy as np\n",
    "import pandas as pd"
   ]
  },
  {
   "cell_type": "code",
   "execution_count": 2,
   "metadata": {},
   "outputs": [],
   "source": [
    "df = pd.read_excel('adel.xlsx', sheet_name=1, index_col=0)"
   ]
  },
  {
   "cell_type": "code",
   "execution_count": 3,
   "metadata": {},
   "outputs": [
    {
     "data": {
      "text/html": [
       "<div>\n",
       "<style scoped>\n",
       "    .dataframe tbody tr th:only-of-type {\n",
       "        vertical-align: middle;\n",
       "    }\n",
       "\n",
       "    .dataframe tbody tr th {\n",
       "        vertical-align: top;\n",
       "    }\n",
       "\n",
       "    .dataframe thead th {\n",
       "        text-align: right;\n",
       "    }\n",
       "</style>\n",
       "<table border=\"1\" class=\"dataframe\">\n",
       "  <thead>\n",
       "    <tr style=\"text-align: right;\">\n",
       "      <th></th>\n",
       "      <th>v1</th>\n",
       "      <th>v2</th>\n",
       "      <th>v3</th>\n",
       "      <th>v4</th>\n",
       "      <th>v5</th>\n",
       "      <th>v6</th>\n",
       "      <th>v7</th>\n",
       "      <th>v8</th>\n",
       "      <th>v9</th>\n",
       "      <th>v10</th>\n",
       "      <th>...</th>\n",
       "      <th>v16</th>\n",
       "      <th>v17</th>\n",
       "      <th>v18</th>\n",
       "      <th>v19</th>\n",
       "      <th>v20</th>\n",
       "      <th>v21</th>\n",
       "      <th>v22</th>\n",
       "      <th>v23</th>\n",
       "      <th>v24</th>\n",
       "      <th>v25</th>\n",
       "    </tr>\n",
       "    <tr>\n",
       "      <th>ID</th>\n",
       "      <th></th>\n",
       "      <th></th>\n",
       "      <th></th>\n",
       "      <th></th>\n",
       "      <th></th>\n",
       "      <th></th>\n",
       "      <th></th>\n",
       "      <th></th>\n",
       "      <th></th>\n",
       "      <th></th>\n",
       "      <th></th>\n",
       "      <th></th>\n",
       "      <th></th>\n",
       "      <th></th>\n",
       "      <th></th>\n",
       "      <th></th>\n",
       "      <th></th>\n",
       "      <th></th>\n",
       "      <th></th>\n",
       "      <th></th>\n",
       "      <th></th>\n",
       "    </tr>\n",
       "  </thead>\n",
       "  <tbody>\n",
       "    <tr>\n",
       "      <th>1</th>\n",
       "      <td>43</td>\n",
       "      <td>4205</td>\n",
       "      <td>20</td>\n",
       "      <td>210.25</td>\n",
       "      <td>97.79</td>\n",
       "      <td>3442.75</td>\n",
       "      <td>40.08</td>\n",
       "      <td>1.19</td>\n",
       "      <td>21</td>\n",
       "      <td>43</td>\n",
       "      <td>...</td>\n",
       "      <td>269.87</td>\n",
       "      <td>60.66</td>\n",
       "      <td>19.83</td>\n",
       "      <td>172.13</td>\n",
       "      <td>4.003023</td>\n",
       "      <td>1.00</td>\n",
       "      <td>98.0</td>\n",
       "      <td>100.0</td>\n",
       "      <td>8</td>\n",
       "      <td>6.722689</td>\n",
       "    </tr>\n",
       "    <tr>\n",
       "      <th>2</th>\n",
       "      <td>143</td>\n",
       "      <td>5344</td>\n",
       "      <td>26</td>\n",
       "      <td>205.54</td>\n",
       "      <td>37.37</td>\n",
       "      <td>2420.70</td>\n",
       "      <td>76.96</td>\n",
       "      <td>2.30</td>\n",
       "      <td>35</td>\n",
       "      <td>72</td>\n",
       "      <td>...</td>\n",
       "      <td>221.73</td>\n",
       "      <td>58.26</td>\n",
       "      <td>23.83</td>\n",
       "      <td>93.10</td>\n",
       "      <td>0.651049</td>\n",
       "      <td>0.96</td>\n",
       "      <td>86.4</td>\n",
       "      <td>97.9</td>\n",
       "      <td>9</td>\n",
       "      <td>3.910000</td>\n",
       "    </tr>\n",
       "    <tr>\n",
       "      <th>3</th>\n",
       "      <td>77</td>\n",
       "      <td>4760</td>\n",
       "      <td>24</td>\n",
       "      <td>198.33</td>\n",
       "      <td>61.82</td>\n",
       "      <td>2727.50</td>\n",
       "      <td>39.62</td>\n",
       "      <td>2.36</td>\n",
       "      <td>36</td>\n",
       "      <td>68</td>\n",
       "      <td>...</td>\n",
       "      <td>256.38</td>\n",
       "      <td>55.42</td>\n",
       "      <td>23.92</td>\n",
       "      <td>113.64</td>\n",
       "      <td>1.475844</td>\n",
       "      <td>1.17</td>\n",
       "      <td>91.7</td>\n",
       "      <td>100.0</td>\n",
       "      <td>16</td>\n",
       "      <td>6.780000</td>\n",
       "    </tr>\n",
       "    <tr>\n",
       "      <th>4</th>\n",
       "      <td>723</td>\n",
       "      <td>24186</td>\n",
       "      <td>49</td>\n",
       "      <td>493.59</td>\n",
       "      <td>33.45</td>\n",
       "      <td>7241.18</td>\n",
       "      <td>273.80</td>\n",
       "      <td>3.77</td>\n",
       "      <td>77</td>\n",
       "      <td>129</td>\n",
       "      <td>...</td>\n",
       "      <td>349.13</td>\n",
       "      <td>87.00</td>\n",
       "      <td>45.40</td>\n",
       "      <td>147.77</td>\n",
       "      <td>0.204385</td>\n",
       "      <td>0.73</td>\n",
       "      <td>55.8</td>\n",
       "      <td>69.6</td>\n",
       "      <td>24</td>\n",
       "      <td>6.370000</td>\n",
       "    </tr>\n",
       "    <tr>\n",
       "      <th>5</th>\n",
       "      <td>238</td>\n",
       "      <td>9549</td>\n",
       "      <td>39</td>\n",
       "      <td>244.85</td>\n",
       "      <td>40.12</td>\n",
       "      <td>3592.97</td>\n",
       "      <td>86.61</td>\n",
       "      <td>4.10</td>\n",
       "      <td>55</td>\n",
       "      <td>94</td>\n",
       "      <td>...</td>\n",
       "      <td>225.29</td>\n",
       "      <td>66.68</td>\n",
       "      <td>28.20</td>\n",
       "      <td>92.12</td>\n",
       "      <td>0.387059</td>\n",
       "      <td>0.74</td>\n",
       "      <td>78.2</td>\n",
       "      <td>94.1</td>\n",
       "      <td>18</td>\n",
       "      <td>4.390000</td>\n",
       "    </tr>\n",
       "  </tbody>\n",
       "</table>\n",
       "<p>5 rows × 25 columns</p>\n",
       "</div>"
      ],
      "text/plain": [
       "     v1     v2  v3      v4     v5       v6      v7    v8  v9  v10    ...     \\\n",
       "ID                                                                   ...      \n",
       "1    43   4205  20  210.25  97.79  3442.75   40.08  1.19  21   43    ...      \n",
       "2   143   5344  26  205.54  37.37  2420.70   76.96  2.30  35   72    ...      \n",
       "3    77   4760  24  198.33  61.82  2727.50   39.62  2.36  36   68    ...      \n",
       "4   723  24186  49  493.59  33.45  7241.18  273.80  3.77  77  129    ...      \n",
       "5   238   9549  39  244.85  40.12  3592.97   86.61  4.10  55   94    ...      \n",
       "\n",
       "       v16    v17    v18     v19       v20   v21   v22    v23  v24       v25  \n",
       "ID                                                                            \n",
       "1   269.87  60.66  19.83  172.13  4.003023  1.00  98.0  100.0    8  6.722689  \n",
       "2   221.73  58.26  23.83   93.10  0.651049  0.96  86.4   97.9    9  3.910000  \n",
       "3   256.38  55.42  23.92  113.64  1.475844  1.17  91.7  100.0   16  6.780000  \n",
       "4   349.13  87.00  45.40  147.77  0.204385  0.73  55.8   69.6   24  6.370000  \n",
       "5   225.29  66.68  28.20   92.12  0.387059  0.74  78.2   94.1   18  4.390000  \n",
       "\n",
       "[5 rows x 25 columns]"
      ]
     },
     "execution_count": 3,
     "metadata": {},
     "output_type": "execute_result"
    }
   ],
   "source": [
    "df.head()"
   ]
  },
  {
   "cell_type": "code",
   "execution_count": 4,
   "metadata": {},
   "outputs": [],
   "source": [
    "def get_correlation_indices(df, threshold):\n",
    "    \"\"\"\n",
    "    Returns the indices where the Pearson correlation coefficients are\n",
    "    above the given threshold in the given dataframe.\n",
    "    \"\"\"\n",
    "    pearsonr = np.corrcoef(df, rowvar=False)\n",
    "    indices = np.where(pearsonr.reshape(len(df.columns) ** 2) > threshold)[0]\n",
    "    \n",
    "    # The two conditions here make sure we do not include diagonal elements\n",
    "    # (trivial), and that we include each pair only once.\n",
    "    indices_2d = [[x // 25, x % 25] for x in indices if x // 25 != x % 25 and x // 25 < x % 25]\n",
    "    \n",
    "    # Display the correlations in a matrix to make it look easier\n",
    "    index = 0\n",
    "    \n",
    "    correlation = np.zeros((len(df.columns), len(df.columns)))\n",
    "\n",
    "    for i in range(25):\n",
    "        count = 0\n",
    "        print('v' + ('0' + str(i+1))[-2:], end=': ')\n",
    "        for j in range(25):\n",
    "            if index < len(indices_2d) and i == indices_2d[index][0] \\\n",
    "                and j == indices_2d[index][1] and i < j:\n",
    "                print('*', end=' ')\n",
    "                correlation[i][j] = 1\n",
    "                index += 1\n",
    "                count += 1\n",
    "            elif i > j:\n",
    "                print(' ', end=' ')\n",
    "            else:\n",
    "                print('-', end=' ')\n",
    "        print(' ', count)\n",
    "    \n",
    "    return indices_2d, correlation"
   ]
  },
  {
   "cell_type": "code",
   "execution_count": 5,
   "metadata": {},
   "outputs": [
    {
     "data": {
      "text/plain": [
       "Index(['v1', 'v2', 'v3', 'v4', 'v5', 'v6', 'v7', 'v8', 'v9', 'v10', 'v11',\n",
       "       'v12', 'v13', 'v14', 'v15', 'v16', 'v17', 'v18', 'v19', 'v20', 'v21',\n",
       "       'v22', 'v23', 'v24', 'v25'],\n",
       "      dtype='object')"
      ]
     },
     "execution_count": 5,
     "metadata": {},
     "output_type": "execute_result"
    }
   ],
   "source": [
    "df.columns"
   ]
  },
  {
   "cell_type": "code",
   "execution_count": 6,
   "metadata": {},
   "outputs": [
    {
     "name": "stdout",
     "output_type": "stream",
     "text": [
      "v01: - - - - - - * - - - - - - - - - - - - - - - - - -   1\n",
      "v02:   - - * - * - - * * - - - * - * - * * - - - - * -   9\n",
      "v03:     - - - - - - - - - - - - - - - - - - - - - - -   0\n",
      "v04:       - - * - - * * * - * * * * * - * - - - - * *   12\n",
      "v05:         - - - - - - - - - - - - * - - - - - - - -   1\n",
      "v06:           - - - * * - - * * - * * * * - - - - - *   9\n",
      "v07:             - - - - - - - - - - - - - - - - - - -   0\n",
      "v08:               - - - - - - - - - - - - - - - - - -   0\n",
      "v09:                 - * * * * * * * * * - - - - - - -   9\n",
      "v10:                   - * * * * * * * * * - - - - - -   9\n",
      "v11:                     - - * * * * * * - - - - - - -   6\n",
      "v12:                       - * - - * - * - - - - - - -   3\n",
      "v13:                         - - * * * * * - - - - - -   5\n",
      "v14:                           - * * * - - - - - - * -   4\n",
      "v15:                             - * * * - - - - - - -   3\n",
      "v16:                               - * * * - - - - * *   5\n",
      "v17:                                 - * * - - - - * -   3\n",
      "v18:                                   - - - - - - - -   0\n",
      "v19:                                     - - - - - * *   2\n",
      "v20:                                       - - - - - -   0\n",
      "v21:                                         - - - - -   0\n",
      "v22:                                           - * - -   1\n",
      "v23:                                             - - -   0\n",
      "v24:                                               - *   1\n",
      "v25:                                                 -   0\n"
     ]
    }
   ],
   "source": [
    "indices, correlation = get_correlation_indices(df, 0.8)"
   ]
  },
  {
   "cell_type": "code",
   "execution_count": 7,
   "metadata": {},
   "outputs": [
    {
     "data": {
      "text/plain": [
       "[[0, 6], [1, 3], [1, 5], [1, 8], [1, 9]]"
      ]
     },
     "execution_count": 7,
     "metadata": {},
     "output_type": "execute_result"
    }
   ],
   "source": [
    "indices[:5]"
   ]
  },
  {
   "cell_type": "markdown",
   "metadata": {},
   "source": [
    "## Use above for OLS model"
   ]
  },
  {
   "cell_type": "code",
   "execution_count": 8,
   "metadata": {},
   "outputs": [],
   "source": [
    "import statsmodels.api as sm\n",
    "from sklearn.model_selection import train_test_split\n",
    "from matplotlib import pyplot as plt\n",
    "\n",
    "plt.style.use('ggplot')"
   ]
  },
  {
   "cell_type": "code",
   "execution_count": 9,
   "metadata": {},
   "outputs": [],
   "source": [
    "def fit_and_display(output, inputs, constant=True, display=True):\n",
    "    \"\"\"\n",
    "    Fits an OLS model with the given output and inputs and shows the\n",
    "    result summary.\n",
    "    \n",
    "    Args:\n",
    "        output: int, the DV\n",
    "        inputs: list of int, the IVs. Both args are 1-based indexed.\n",
    "    \"\"\"\n",
    "    Y = df['v' + str(output)]\n",
    "    X = df[['v' + str(x) for x in inputs]]\n",
    "    \n",
    "    if constant:\n",
    "        X = sm.add_constant(X)\n",
    "    \n",
    "    model = sm.OLS(Y, X)\n",
    "    results = model.fit()\n",
    "    \n",
    "    if display:\n",
    "        print(results.summary())\n",
    "        \n",
    "    return results"
   ]
  },
  {
   "cell_type": "code",
   "execution_count": 10,
   "metadata": {},
   "outputs": [
    {
     "name": "stdout",
     "output_type": "stream",
     "text": [
      "                            OLS Regression Results                            \n",
      "==============================================================================\n",
      "Dep. Variable:                     v4   R-squared:                       0.973\n",
      "Model:                            OLS   Adj. R-squared:                  0.972\n",
      "Method:                 Least Squares   F-statistic:                     2429.\n",
      "Date:                Tue, 20 Nov 2018   Prob (F-statistic):               0.00\n",
      "Time:                        19:16:28   Log-Likelihood:                -2143.2\n",
      "No. Observations:                 618   AIC:                             4304.\n",
      "Df Residuals:                     609   BIC:                             4344.\n",
      "Df Model:                           9                                         \n",
      "Covariance Type:            nonrobust                                         \n",
      "==============================================================================\n",
      "                 coef    std err          t      P>|t|      [0.025      0.975]\n",
      "------------------------------------------------------------------------------\n",
      "v6            -0.0065      0.002     -2.775      0.006      -0.011      -0.002\n",
      "v9             2.0218      0.218      9.275      0.000       1.594       2.450\n",
      "v11           -0.8051      0.219     -3.669      0.000      -1.236      -0.374\n",
      "v13           -3.1005      0.282    -10.993      0.000      -3.654      -2.547\n",
      "v14            0.0197      0.007      2.713      0.007       0.005       0.034\n",
      "v17            0.7742      0.080      9.659      0.000       0.617       0.932\n",
      "v19            1.8746      0.060     31.088      0.000       1.756       1.993\n",
      "v24           11.5548      0.560     20.634      0.000      10.455      12.655\n",
      "v25          -28.5114      1.771    -16.095      0.000     -31.990     -25.033\n",
      "==============================================================================\n",
      "Omnibus:                      470.481   Durbin-Watson:                   2.060\n",
      "Prob(Omnibus):                  0.000   Jarque-Bera (JB):            53677.047\n",
      "Skew:                          -2.556   Prob(JB):                         0.00\n",
      "Kurtosis:                      48.370   Cond. No.                     3.20e+03\n",
      "==============================================================================\n",
      "\n",
      "Warnings:\n",
      "[1] Standard Errors assume that the covariance matrix of the errors is correctly specified.\n",
      "[2] The condition number is large, 3.2e+03. This might indicate that there are\n",
      "strong multicollinearity or other numerical problems.\n"
     ]
    },
    {
     "data": {
      "text/plain": [
       "<statsmodels.regression.linear_model.RegressionResultsWrapper at 0x7fc4ffacfe48>"
      ]
     },
     "execution_count": 10,
     "metadata": {},
     "output_type": "execute_result"
    }
   ],
   "source": [
    "# Since v4 has the most correlations, may be a good candidate for a DV\n",
    "fit_and_display(4, [6, 9, 11, 13, 14, 17, 19, 24, 25], False)"
   ]
  },
  {
   "cell_type": "code",
   "execution_count": 11,
   "metadata": {},
   "outputs": [],
   "source": [
    "Y = df['v4']\n",
    "X = df[['v' + str(x) for x in [6, 9, 11, 13, 14, 17, 19, 24, 25]]]"
   ]
  },
  {
   "cell_type": "code",
   "execution_count": 12,
   "metadata": {},
   "outputs": [
    {
     "name": "stdout",
     "output_type": "stream",
     "text": [
      "(618,)\n",
      "(618, 9)\n"
     ]
    }
   ],
   "source": [
    "print(Y.shape)\n",
    "print(X.shape)"
   ]
  },
  {
   "cell_type": "code",
   "execution_count": 13,
   "metadata": {},
   "outputs": [
    {
     "data": {
      "image/png": "[encoded data removed]",
      "text/plain": [
       "<Figure size 432x288 with 1 Axes>"
      ]
     },
     "metadata": {
      "needs_background": "light"
     },
     "output_type": "display_data"
    }
   ],
   "source": [
    "model = sm.OLS(Y, X)\n",
    "result = model.fit()\n",
    "\n",
    "predictions = result.predict(X)\n",
    "\n",
    "plt.ylabel('Residuals')\n",
    "plt.xlabel('Fit values')\n",
    "residuals = predictions - Y\n",
    "plt.scatter(predictions, residuals);"
   ]
  },
  {
   "cell_type": "code",
   "execution_count": 14,
   "metadata": {},
   "outputs": [
    {
     "data": {
      "text/plain": [
       "array([[ 1.        , -0.00467538],\n",
       "       [-0.00467538,  1.        ]])"
      ]
     },
     "execution_count": 14,
     "metadata": {},
     "output_type": "execute_result"
    }
   ],
   "source": [
    "np.corrcoef(predictions, residuals)"
   ]
  },
  {
   "cell_type": "code",
   "execution_count": 15,
   "metadata": {},
   "outputs": [],
   "source": [
    "summary = result.summary()"
   ]
  },
  {
   "cell_type": "code",
   "execution_count": 16,
   "metadata": {},
   "outputs": [
    {
     "data": {
      "text/plain": [
       "array([1, 2, 3, 4, 5, 6, 7, 8, 9])"
      ]
     },
     "execution_count": 16,
     "metadata": {},
     "output_type": "execute_result"
    }
   ],
   "source": [
    "np.where(np.array(result.pvalues) < 0.05)[0] + 1"
   ]
  },
  {
   "cell_type": "markdown",
   "metadata": {},
   "source": [
    "## Now the same for v2"
   ]
  },
  {
   "cell_type": "code",
   "execution_count": 17,
   "metadata": {},
   "outputs": [],
   "source": [
    "from IPython.display import display, Markdown"
   ]
  },
  {
   "cell_type": "code",
   "execution_count": 18,
   "metadata": {},
   "outputs": [],
   "source": [
    "v2_corr = correlation[1]"
   ]
  },
  {
   "cell_type": "code",
   "execution_count": 19,
   "metadata": {},
   "outputs": [
    {
     "data": {
      "text/plain": [
       "array([0., 0., 0., 1., 0., 1., 0., 0., 1., 1., 0., 0., 0., 1., 0., 1., 0.,\n",
       "       1., 1., 0., 0., 0., 0., 1., 0.])"
      ]
     },
     "execution_count": 19,
     "metadata": {},
     "output_type": "execute_result"
    }
   ],
   "source": [
    "v2_corr"
   ]
  },
  {
   "cell_type": "code",
   "execution_count": 20,
   "metadata": {},
   "outputs": [],
   "source": [
    "ivs = np.where(v2_corr == 1)[0]"
   ]
  },
  {
   "cell_type": "code",
   "execution_count": 21,
   "metadata": {},
   "outputs": [
    {
     "data": {
      "text/plain": [
       "array([ 3,  5,  8,  9, 13, 15, 17, 18, 23])"
      ]
     },
     "execution_count": 21,
     "metadata": {},
     "output_type": "execute_result"
    }
   ],
   "source": [
    "ivs"
   ]
  },
  {
   "cell_type": "code",
   "execution_count": 22,
   "metadata": {},
   "outputs": [],
   "source": [
    "ivs += 1"
   ]
  },
  {
   "cell_type": "code",
   "execution_count": 23,
   "metadata": {},
   "outputs": [
    {
     "data": {
      "text/plain": [
       "array([ 4,  6,  9, 10, 14, 16, 18, 19, 24])"
      ]
     },
     "execution_count": 23,
     "metadata": {},
     "output_type": "execute_result"
    }
   ],
   "source": [
    "ivs"
   ]
  },
  {
   "cell_type": "code",
   "execution_count": 24,
   "metadata": {},
   "outputs": [
    {
     "data": {
      "text/markdown": [
       "Expt. No.|DV |IVs | Adj. R^2|Significant IVs\n",
       "---|:---:|:---:|:---:|---\n",
       "1|v2 |v4|0.804|All\n",
       "2|v2 |v4 (no const)|0.818|All\n",
       "3|v2 |v4,v6|0.924|All\n",
       "4|v2 |v4,v6 (no const)|0.93|All\n",
       "5|v2 |v4,v6,v9|0.924|v4,v6,v9\n",
       "6|v2 |v4,v6,v9 (no const)|0.93|All\n",
       "7|v2 |v4,v6,v9,v10|0.925|All\n",
       "8|v2 |v4,v6,v9,v10 (no const)|0.931|v4,v6,v10\n",
       "9|v2 |v4,v6,v9,v10,v14|0.933|All\n",
       "10|v2 |v4,v6,v9,v10,v14 (no const)|0.939|All\n",
       "11|v2 |v4,v6,v9,v10,v14,v16|0.981|v6,v9,v10,v14,v16,v18\n",
       "12|v2 |v4,v6,v9,v10,v14,v16 (no const)|0.983|All\n",
       "13|v2 |v4,v6,v9,v10,v14,v16,v18|0.981|v6,v9,v10,v14,v16,v18\n",
       "14|v2 |v4,v6,v9,v10,v14,v16,v18 (no const)|0.983|v4,v6,v9,v10,v14,v16\n",
       "15|v2 |v4,v6,v9,v10,v14,v16,v18,v19|0.992|All\n",
       "16|v2 |v4,v6,v9,v10,v14,v16,v18,v19 (no const)|0.993|v4,v6,v10,v14,v16,v18,v19\n",
       "17|v2 |v4,v6,v9,v10,v14,v16,v18,v19,v24|0.992|All\n",
       "18|v2 |v4,v6,v9,v10,v14,v16,v18,v19,v24 (no const)|0.993|v4,v6,v10,v14,v16,v18,v19,v24\n"
      ],
      "text/plain": [
       "<IPython.core.display.Markdown object>"
      ]
     },
     "metadata": {},
     "output_type": "display_data"
    }
   ],
   "source": [
    "# List of IVs to consider\n",
    "considered_ivs = []\n",
    "\n",
    "# Print header\n",
    "printed = 'Expt. No.|DV |IVs | Adj. R^2|Significant IVs\\n---|:---:|:---:|:---:|---\\n'\n",
    "expt_no = 1\n",
    "\n",
    "for i in range(len(ivs)):    \n",
    "    # First with constant\n",
    "    printed += str(expt_no) + '|'\n",
    "    expt_no += 1\n",
    "    \n",
    "    considered_ivs.append(ivs[i])\n",
    "    result = fit_and_display(2, considered_ivs, display=False)\n",
    "    \n",
    "    # For printing\n",
    "    print_ivs = ['v' + str(x) for x in considered_ivs]\n",
    "    \n",
    "    # Get metrics\n",
    "    adj_r2 = result.rsquared_adj\n",
    "    adj_r2 = int(adj_r2 * 1000) / 1000\n",
    "    pvalues = np.array(result.pvalues)\n",
    "    \n",
    "    # Add result to Markdown table\n",
    "    if np.all(pvalues < 0.05):\n",
    "        printed += ('v2 |' + ','.join(print_ivs) + '|' + str(adj_r2) + '|All\\n')\n",
    "    else:\n",
    "        significant = np.where(pvalues < 0.05)[0]\n",
    "        printed += ('v2 |' + ','.join(print_ivs) + '|' + str(adj_r2) + '|' + ','.join(['v' + str(ivs[x]) for x in significant]) + '\\n')\n",
    "    \n",
    "    # Next without constant\n",
    "    printed += str(expt_no) + '|'\n",
    "    expt_no += 1\n",
    "    \n",
    "    result = fit_and_display(2, considered_ivs, constant=False, display=False)\n",
    "    adj_r2 = result.rsquared_adj\n",
    "    adj_r2 = int(adj_r2 * 1000) / 1000\n",
    "    pvalues = np.array(result.pvalues)\n",
    "    \n",
    "    if np.all(pvalues < 0.05):\n",
    "        printed += ('v2 |' + ','.join(print_ivs) + ' (no const)|' + str(adj_r2) + '|All\\n')\n",
    "    else:\n",
    "        significant = np.where(pvalues < 0.05)[0]\n",
    "        printed += ('v2 |' + ','.join(print_ivs) + ' (no const)|' + str(adj_r2) + '|' + ','.join(['v' + str(ivs[x]) for x in significant]) + '\\n')\n",
    "    \n",
    "display(Markdown(printed))"
   ]
  },
  {
   "cell_type": "markdown",
   "metadata": {},
   "source": [
    "From this table, we use the results of row 16, since it has the highest R^2 with the least number of predictor variables."
   ]
  },
  {
   "cell_type": "code",
   "execution_count": 25,
   "metadata": {},
   "outputs": [
    {
     "name": "stdout",
     "output_type": "stream",
     "text": [
      "                            OLS Regression Results                            \n",
      "==============================================================================\n",
      "Dep. Variable:                     v2   R-squared:                       0.993\n",
      "Model:                            OLS   Adj. R-squared:                  0.993\n",
      "Method:                 Least Squares   F-statistic:                 1.255e+04\n",
      "Date:                Tue, 20 Nov 2018   Prob (F-statistic):               0.00\n",
      "Time:                        19:16:31   Log-Likelihood:                -3849.7\n",
      "No. Observations:                 618   AIC:                             7713.\n",
      "Df Residuals:                     611   BIC:                             7744.\n",
      "Df Model:                           7                                         \n",
      "Covariance Type:            nonrobust                                         \n",
      "==============================================================================\n",
      "                 coef    std err          t      P>|t|      [0.025      0.975]\n",
      "------------------------------------------------------------------------------\n",
      "v4            17.9865      0.539     33.391      0.000      16.929      19.044\n",
      "v6             2.9565      0.030     99.132      0.000       2.898       3.015\n",
      "v10           -7.1974      1.155     -6.230      0.000      -9.466      -4.929\n",
      "v14            2.8990      0.172     16.892      0.000       2.562       3.236\n",
      "v16          -12.9553      0.677    -19.137      0.000     -14.285     -11.626\n",
      "v18           15.0059      3.381      4.438      0.000       8.366      21.646\n",
      "v19          -40.4789      1.372    -29.500      0.000     -43.174     -37.784\n",
      "==============================================================================\n",
      "Omnibus:                      183.865   Durbin-Watson:                   1.853\n",
      "Prob(Omnibus):                  0.000   Jarque-Bera (JB):            13139.347\n",
      "Skew:                          -0.267   Prob(JB):                         0.00\n",
      "Kurtosis:                      25.583   Cond. No.                         392.\n",
      "==============================================================================\n",
      "\n",
      "Warnings:\n",
      "[1] Standard Errors assume that the covariance matrix of the errors is correctly specified.\n"
     ]
    }
   ],
   "source": [
    "results = fit_and_display(2, [4, 6, 10, 14, 16, 18, 19], constant=False)"
   ]
  },
  {
   "cell_type": "code",
   "execution_count": 26,
   "metadata": {},
   "outputs": [
    {
     "data": {
      "image/png": "[encoded data removed]",
      "text/plain": [
       "<Figure size 432x288 with 1 Axes>"
      ]
     },
     "metadata": {
      "needs_background": "light"
     },
     "output_type": "display_data"
    }
   ],
   "source": [
    "Y = df['v2']\n",
    "X = df[['v' + str(x) for x in [4, 6, 10, 14, 16, 18, 19]]]\n",
    "\n",
    "model = sm.OLS(Y, X)\n",
    "result = model.fit()\n",
    "\n",
    "predictions = result.predict(X)\n",
    "residuals = predictions - Y\n",
    "plt.scatter(predictions, residuals);"
   ]
  },
  {
   "cell_type": "code",
   "execution_count": 27,
   "metadata": {},
   "outputs": [
    {
     "data": {
      "text/plain": [
       "array([[1.        , 0.02307247],\n",
       "       [0.02307247, 1.        ]])"
      ]
     },
     "execution_count": 27,
     "metadata": {},
     "output_type": "execute_result"
    }
   ],
   "source": [
    "np.corrcoef(predictions, residuals)"
   ]
  },
  {
   "cell_type": "markdown",
   "metadata": {},
   "source": [
    "## Creating a function to automatically do the above"
   ]
  },
  {
   "cell_type": "code",
   "execution_count": 28,
   "metadata": {},
   "outputs": [],
   "source": [
    "def print_regression_experiments(output):\n",
    "    \"\"\"\n",
    "    Performs regression by adding variables one by one, with and without the\n",
    "    constant, and prints a tabular version of the results.\n",
    "    \n",
    "    Args:\n",
    "        output: The output variable\n",
    "    \"\"\"\n",
    "    var_corr = correlation[output - 1]  # Because output is 1-based indexed\n",
    "    \n",
    "    # Get correlated IVs\n",
    "    ivs = np.where(var_corr == 1)[0]\n",
    "    \n",
    "    # Convert to 1-based indexing\n",
    "    ivs += 1\n",
    "    \n",
    "    # List of IVs to consider\n",
    "    considered_ivs = []\n",
    "\n",
    "    # Print header\n",
    "    printed = 'Expt. No.|DV |IVs | Adj. R^2|Significant IVs\\n---|:---:|:---:|:---:|---\\n'\n",
    "    expt_no = 1\n",
    "\n",
    "    for i in range(len(ivs)):    \n",
    "        # First with constant\n",
    "        printed += str(expt_no) + '|'\n",
    "        expt_no += 1\n",
    "\n",
    "        considered_ivs.append(ivs[i])\n",
    "        result = fit_and_display(output, considered_ivs, display=False)\n",
    "\n",
    "        # For printing\n",
    "        print_ivs = ['v' + str(x) for x in considered_ivs]\n",
    "\n",
    "        # Get metrics\n",
    "        adj_r2 = result.rsquared_adj\n",
    "        adj_r2 = int(adj_r2 * 1000) / 1000  # Want only 3 decimal places\n",
    "        pvalues = np.array(result.pvalues)\n",
    "\n",
    "        # Add result to Markdown table\n",
    "        if np.all(pvalues < 0.05):\n",
    "            printed += ('v' + str(output) + ' |' + ','.join(print_ivs) + '|' + str(adj_r2) + '|All\\n')\n",
    "        else:\n",
    "            significant = np.where(pvalues < 0.05)[0]\n",
    "            # [x-1] index is required because here, the constant is the first index.\n",
    "            printed += ('v' + str(output) + ' |' + ','.join(print_ivs) + '|' + \n",
    "                        str(adj_r2) + '|' + ','.join(['v' + str(ivs[x - 1]) for x in significant]) + '\\n')\n",
    "\n",
    "        # Next without constant\n",
    "        printed += str(expt_no) + '|'\n",
    "        expt_no += 1\n",
    "\n",
    "        result = fit_and_display(output, considered_ivs, constant=False, display=False)\n",
    "        adj_r2 = result.rsquared_adj\n",
    "        adj_r2 = int(adj_r2 * 1000) / 1000\n",
    "        pvalues = np.array(result.pvalues)\n",
    "\n",
    "        if np.all(pvalues < 0.05):\n",
    "            printed += ('v' + str(output) + ' |' + ','.join(print_ivs) + ' (no const)|' + str(adj_r2) + '|All\\n')\n",
    "        else:\n",
    "            significant = np.where(pvalues < 0.05)[0]\n",
    "            printed += ('v' + str(output) + ' |' + ','.join(print_ivs) + ' (no const)|' + str(adj_r2) + '|' + \n",
    "                        ','.join(['v' + str(ivs[x]) for x in significant]) + '\\n')\n",
    "\n",
    "    # Print the Markdown\n",
    "    display(Markdown(printed))"
   ]
  },
  {
   "cell_type": "code",
   "execution_count": 29,
   "metadata": {},
   "outputs": [
    {
     "data": {
      "text/markdown": [
       "Expt. No.|DV |IVs | Adj. R^2|Significant IVs\n",
       "---|:---:|:---:|:---:|---\n",
       "1|v6 |v9|0.724|All\n",
       "2|v6 |v9 (no const)|0.69|All\n",
       "3|v6 |v9,v10|0.728|All\n",
       "4|v6 |v9,v10 (no const)|0.693|All\n",
       "5|v6 |v9,v10,v13|0.733|All\n",
       "6|v6 |v9,v10,v13 (no const)|0.692|v9,v10\n",
       "7|v6 |v9,v10,v13,v14|0.795|All\n",
       "8|v6 |v9,v10,v13,v14 (no const)|0.791|All\n",
       "9|v6 |v9,v10,v13,v14,v16|0.875|v25,v9,v13,v14,v16\n",
       "10|v6 |v9,v10,v13,v14,v16 (no const)|0.883|v9,v13,v14,v16\n",
       "11|v6 |v9,v10,v13,v14,v16,v17|0.875|v25,v9,v13,v14,v16\n",
       "12|v6 |v9,v10,v13,v14,v16,v17 (no const)|0.884|v9,v13,v14,v16\n",
       "13|v6 |v9,v10,v13,v14,v16,v17,v18|0.887|v25,v9,v13,v16,v17,v18\n",
       "14|v6 |v9,v10,v13,v14,v16,v17,v18 (no const)|0.893|v9,v13,v14,v16,v17,v18\n",
       "15|v6 |v9,v10,v13,v14,v16,v17,v18,v19|0.907|v25,v9,v13,v16,v18,v19\n",
       "16|v6 |v9,v10,v13,v14,v16,v17,v18,v19 (no const)|0.913|v10,v13,v16,v17,v18,v19\n",
       "17|v6 |v9,v10,v13,v14,v16,v17,v18,v19,v25|0.907|v25,v9,v13,v16,v18,v19,v25\n",
       "18|v6 |v9,v10,v13,v14,v16,v17,v18,v19,v25 (no const)|0.914|v10,v13,v16,v17,v18,v19,v25\n"
      ],
      "text/plain": [
       "<IPython.core.display.Markdown object>"
      ]
     },
     "metadata": {},
     "output_type": "display_data"
    }
   ],
   "source": [
    "print_regression_experiments(6)"
   ]
  },
  {
   "cell_type": "markdown",
   "metadata": {},
   "source": [
    "We'll consider #16 because we can throw away 0.001 R^2 for a simpler model."
   ]
  },
  {
   "cell_type": "code",
   "execution_count": 30,
   "metadata": {},
   "outputs": [
    {
     "name": "stdout",
     "output_type": "stream",
     "text": [
      "                            OLS Regression Results                            \n",
      "==============================================================================\n",
      "Dep. Variable:                     v6   R-squared:                       0.914\n",
      "Model:                            OLS   Adj. R-squared:                  0.913\n",
      "Method:                 Least Squares   F-statistic:                     1078.\n",
      "Date:                Tue, 20 Nov 2018   Prob (F-statistic):          1.73e-321\n",
      "Time:                        19:16:32   Log-Likelihood:                -4003.3\n",
      "No. Observations:                 618   AIC:                             8019.\n",
      "Df Residuals:                     612   BIC:                             8045.\n",
      "Df Model:                           6                                         \n",
      "Covariance Type:            nonrobust                                         \n",
      "==============================================================================\n",
      "                 coef    std err          t      P>|t|      [0.025      0.975]\n",
      "------------------------------------------------------------------------------\n",
      "v10           18.4844      2.768      6.677      0.000      13.048      23.921\n",
      "v13          -74.8686      7.615     -9.832      0.000     -89.823     -59.915\n",
      "v16            5.4741      0.490     11.176      0.000       4.512       6.436\n",
      "v17          -11.7171      3.150     -3.720      0.000     -17.903      -5.532\n",
      "v18           58.0314      7.318      7.930      0.000      43.659      72.404\n",
      "v19           13.1330      1.058     12.413      0.000      11.055      15.211\n",
      "==============================================================================\n",
      "Omnibus:                      613.817   Durbin-Watson:                   1.640\n",
      "Prob(Omnibus):                  0.000   Jarque-Bera (JB):            84084.932\n",
      "Skew:                           3.994   Prob(JB):                         0.00\n",
      "Kurtosis:                      59.583   Cond. No.                         86.2\n",
      "==============================================================================\n",
      "\n",
      "Warnings:\n",
      "[1] Standard Errors assume that the covariance matrix of the errors is correctly specified.\n"
     ]
    }
   ],
   "source": [
    "results = fit_and_display(6, [10, 13, 16, 17, 18, 19], constant=False)"
   ]
  },
  {
   "cell_type": "markdown",
   "metadata": {},
   "source": [
    "## v9"
   ]
  },
  {
   "cell_type": "code",
   "execution_count": 31,
   "metadata": {},
   "outputs": [
    {
     "data": {
      "text/markdown": [
       "Expt. No.|DV |IVs | Adj. R^2|Significant IVs\n",
       "---|:---:|:---:|:---:|---\n",
       "1|v9 |v10|0.94|All\n",
       "2|v9 |v10 (no const)|0.966|All\n",
       "3|v9 |v10,v11|0.945|v10,v11\n",
       "4|v9 |v10,v11 (no const)|0.969|All\n",
       "5|v9 |v10,v11,v12|0.954|All\n",
       "6|v9 |v10,v11,v12 (no const)|0.974|All\n",
       "7|v9 |v10,v11,v12,v13|0.956|v18,v10,v11,v13\n",
       "8|v9 |v10,v11,v12,v13 (no const)|0.975|v10,v11,v13\n",
       "9|v9 |v10,v11,v12,v13,v14|0.957|v18,v10,v11,v13\n",
       "10|v9 |v10,v11,v12,v13,v14 (no const)|0.976|v10,v11,v13,v14\n",
       "11|v9 |v10,v11,v12,v13,v14,v15|0.961|v10,v11,v13,v14,v15\n",
       "12|v9 |v10,v11,v12,v13,v14,v15 (no const)|0.978|v10,v11,v13,v14,v15\n",
       "13|v9 |v10,v11,v12,v13,v14,v15,v16|0.963|v10,v11,v12,v13,v14,v15,v16\n",
       "14|v9 |v10,v11,v12,v13,v14,v15,v16 (no const)|0.98|All\n",
       "15|v9 |v10,v11,v12,v13,v14,v15,v16,v17|0.974|v10,v11,v13,v14,v15,v17\n",
       "16|v9 |v10,v11,v12,v13,v14,v15,v16,v17 (no const)|0.985|v10,v11,v13,v14,v15,v17\n",
       "17|v9 |v10,v11,v12,v13,v14,v15,v16,v17,v18|0.98|v10,v11,v12,v14,v15,v16,v17,v18\n",
       "18|v9 |v10,v11,v12,v13,v14,v15,v16,v17,v18 (no const)|0.988|v10,v11,v12,v14,v15,v16,v17,v18\n"
      ],
      "text/plain": [
       "<IPython.core.display.Markdown object>"
      ]
     },
     "metadata": {},
     "output_type": "display_data"
    }
   ],
   "source": [
    "print_regression_experiments(9)"
   ]
  },
  {
   "cell_type": "markdown",
   "metadata": {},
   "source": [
    "Again, we choose expt. #16 for a simpler model."
   ]
  },
  {
   "cell_type": "code",
   "execution_count": 32,
   "metadata": {},
   "outputs": [
    {
     "name": "stdout",
     "output_type": "stream",
     "text": [
      "                            OLS Regression Results                            \n",
      "==============================================================================\n",
      "Dep. Variable:                     v9   R-squared:                       0.986\n",
      "Model:                            OLS   Adj. R-squared:                  0.986\n",
      "Method:                 Least Squares   F-statistic:                     7123.\n",
      "Date:                Tue, 20 Nov 2018   Prob (F-statistic):               0.00\n",
      "Time:                        19:16:32   Log-Likelihood:                -1040.4\n",
      "No. Observations:                 618   AIC:                             2093.\n",
      "Df Residuals:                     612   BIC:                             2119.\n",
      "Df Model:                           6                                         \n",
      "Covariance Type:            nonrobust                                         \n",
      "==============================================================================\n",
      "                 coef    std err          t      P>|t|      [0.025      0.975]\n",
      "------------------------------------------------------------------------------\n",
      "v10            0.5551      0.022     25.250      0.000       0.512       0.598\n",
      "v11            0.3324      0.045      7.383      0.000       0.244       0.421\n",
      "v13            0.4785      0.036     13.131      0.000       0.407       0.550\n",
      "v14            0.0038      0.001      3.461      0.001       0.002       0.006\n",
      "v15           -0.1440      0.056     -2.557      0.011      -0.255      -0.033\n",
      "v17           -0.3342      0.019    -17.388      0.000      -0.372      -0.296\n",
      "==============================================================================\n",
      "Omnibus:                      111.690   Durbin-Watson:                   1.990\n",
      "Prob(Omnibus):                  0.000   Jarque-Bera (JB):             1976.264\n",
      "Skew:                           0.078   Prob(JB):                         0.00\n",
      "Kurtosis:                      11.759   Cond. No.                         169.\n",
      "==============================================================================\n",
      "\n",
      "Warnings:\n",
      "[1] Standard Errors assume that the covariance matrix of the errors is correctly specified.\n"
     ]
    }
   ],
   "source": [
    "results = fit_and_display(9, [10, 11, 13, 14, 15, 17], constant=False)"
   ]
  },
  {
   "cell_type": "markdown",
   "metadata": {},
   "source": [
    "## v10"
   ]
  },
  {
   "cell_type": "code",
   "execution_count": 33,
   "metadata": {},
   "outputs": [
    {
     "data": {
      "text/markdown": [
       "Expt. No.|DV |IVs | Adj. R^2|Significant IVs\n",
       "---|:---:|:---:|:---:|---\n",
       "1|v10 |v11|0.852|All\n",
       "2|v10 |v11 (no const)|0.911|All\n",
       "3|v10 |v11,v12|0.88|All\n",
       "4|v10 |v11,v12 (no const)|0.926|All\n",
       "5|v10 |v11,v12,v13|0.943|All\n",
       "6|v10 |v11,v12,v13 (no const)|0.965|All\n",
       "7|v10 |v11,v12,v13,v14|0.958|v11,v12,v13,v14\n",
       "8|v10 |v11,v12,v13,v14 (no const)|0.976|All\n",
       "9|v10 |v11,v12,v13,v14,v15|0.96|v19,v12,v13,v14,v15\n",
       "10|v10 |v11,v12,v13,v14,v15 (no const)|0.977|v12,v13,v14,v15\n",
       "11|v10 |v11,v12,v13,v14,v15,v16|0.961|v19,v12,v13,v14,v15,v16\n",
       "12|v10 |v11,v12,v13,v14,v15,v16 (no const)|0.977|v12,v13,v14,v15,v16\n",
       "13|v10 |v11,v12,v13,v14,v15,v16,v17|0.98|v19,v11,v13,v14,v15,v16,v17\n",
       "14|v10 |v11,v12,v13,v14,v15,v16,v17 (no const)|0.988|v11,v13,v14,v15,v16,v17\n",
       "15|v10 |v11,v12,v13,v14,v15,v16,v17,v18|0.987|All\n",
       "16|v10 |v11,v12,v13,v14,v15,v16,v17,v18 (no const)|0.992|All\n",
       "17|v10 |v11,v12,v13,v14,v15,v16,v17,v18,v19|0.987|v19,v11,v12,v14,v15,v16,v17,v18,v19\n",
       "18|v10 |v11,v12,v13,v14,v15,v16,v17,v18,v19 (no const)|0.992|v11,v12,v14,v15,v16,v17,v18,v19\n"
      ],
      "text/plain": [
       "<IPython.core.display.Markdown object>"
      ]
     },
     "metadata": {},
     "output_type": "display_data"
    }
   ],
   "source": [
    "print_regression_experiments(10)"
   ]
  },
  {
   "cell_type": "markdown",
   "metadata": {},
   "source": [
    "Here we choose #16."
   ]
  },
  {
   "cell_type": "code",
   "execution_count": 34,
   "metadata": {},
   "outputs": [
    {
     "name": "stdout",
     "output_type": "stream",
     "text": [
      "                            OLS Regression Results                            \n",
      "==============================================================================\n",
      "Dep. Variable:                    v10   R-squared:                       0.993\n",
      "Model:                            OLS   Adj. R-squared:                  0.992\n",
      "Method:                 Least Squares   F-statistic:                 1.020e+04\n",
      "Date:                Tue, 20 Nov 2018   Prob (F-statistic):               0.00\n",
      "Time:                        19:16:33   Log-Likelihood:                -1225.3\n",
      "No. Observations:                 618   AIC:                             2467.\n",
      "Df Residuals:                     610   BIC:                             2502.\n",
      "Df Model:                           8                                         \n",
      "Covariance Type:            nonrobust                                         \n",
      "==============================================================================\n",
      "                 coef    std err          t      P>|t|      [0.025      0.975]\n",
      "------------------------------------------------------------------------------\n",
      "v11            0.6603      0.061     10.896      0.000       0.541       0.779\n",
      "v12           -0.5729      0.110     -5.207      0.000      -0.789      -0.357\n",
      "v13            0.2161      0.106      2.030      0.043       0.007       0.425\n",
      "v14            0.0354      0.002     15.377      0.000       0.031       0.040\n",
      "v15           -0.7408      0.079     -9.420      0.000      -0.895      -0.586\n",
      "v16           -0.0852      0.007    -12.879      0.000      -0.098      -0.072\n",
      "v17            0.7858      0.022     35.053      0.000       0.742       0.830\n",
      "v18            1.3468      0.075     17.896      0.000       1.199       1.495\n",
      "==============================================================================\n",
      "Omnibus:                      295.493   Durbin-Watson:                   1.861\n",
      "Prob(Omnibus):                  0.000   Jarque-Bera (JB):             3942.532\n",
      "Skew:                          -1.769   Prob(JB):                         0.00\n",
      "Kurtosis:                      14.857   Cond. No.                         258.\n",
      "==============================================================================\n",
      "\n",
      "Warnings:\n",
      "[1] Standard Errors assume that the covariance matrix of the errors is correctly specified.\n"
     ]
    },
    {
     "data": {
      "text/plain": [
       "<statsmodels.regression.linear_model.RegressionResultsWrapper at 0x7fc4ff753630>"
      ]
     },
     "execution_count": 34,
     "metadata": {},
     "output_type": "execute_result"
    }
   ],
   "source": [
    "fit_and_display(10, [11, 12, 13, 14, 15, 16, 17, 18], constant=False)"
   ]
  },
  {
   "cell_type": "code",
   "execution_count": null,
   "metadata": {},
   "outputs": [],
   "source": []
  }
 ],
 "metadata": {
  "kernelspec": {
   "display_name": "Python 3",
   "language": "python",
   "name": "python3"
  },
  "language_info": {
   "codemirror_mode": {
    "name": "ipython",
    "version": 3
   },
   "file_extension": ".py",
   "mimetype": "text/x-python",
   "name": "python",
   "nbconvert_exporter": "python",
   "pygments_lexer": "ipython3",
   "version": "3.7.1"
  }
 },
 "nbformat": 4,
 "nbformat_minor": 2
}
