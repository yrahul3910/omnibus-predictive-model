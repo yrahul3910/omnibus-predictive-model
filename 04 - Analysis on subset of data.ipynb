{
 "cells": [
  {
   "cell_type": "markdown",
   "metadata": {},
   "source": [
    "This notebook conducts the same experiments as in notebook 02, but on v9-v21 and v24 only, as advised by Dr. Saha."
   ]
  },
  {
   "cell_type": "code",
   "execution_count": 55,
   "metadata": {},
   "outputs": [],
   "source": [
    "import numpy as np\n",
    "import pandas as pd\n",
    "import matplotlib.pyplot as plt\n",
    "\n",
    "import statsmodels.api as sm\n",
    "from IPython.display import display, Markdown\n",
    "\n",
    "plt.style.use('ggplot')"
   ]
  },
  {
   "cell_type": "code",
   "execution_count": 2,
   "metadata": {},
   "outputs": [],
   "source": [
    "df = pd.read_excel('adel.xlsx', sheet_name=1, index_col=0)"
   ]
  },
  {
   "cell_type": "code",
   "execution_count": 22,
   "metadata": {},
   "outputs": [],
   "source": [
    "def get_correlation_indices(df, threshold, cols=None):\n",
    "    \"\"\"\n",
    "    Returns the indices where the Pearson correlation coefficients are\n",
    "    above the given threshold in the given dataframe.\n",
    "    \"\"\"\n",
    "    pearsonr = np.corrcoef(df, rowvar=False)\n",
    "    n = len(df.columns)\n",
    "    indices = np.where(pearsonr.reshape(n ** 2) > threshold)[0]\n",
    "    \n",
    "    # The two conditions here make sure we do not include diagonal elements\n",
    "    # (trivial), and that we include each pair only once.\n",
    "    indices_2d = [[x // n, x % n] for x in indices if x // n != x % n and x // n < x % n]\n",
    "    \n",
    "    # Display the correlations in a matrix to make it look easier\n",
    "    index = 0\n",
    "    \n",
    "    correlation = np.zeros((len(df.columns), len(df.columns)))\n",
    "\n",
    "    for i in range(n):\n",
    "        count = 0\n",
    "        \n",
    "        if cols is None:\n",
    "            print('v' + ('0' + str(i+1))[-2:], end=': ')\n",
    "        else:\n",
    "            print((' ' + cols[i])[-3:], end=': ')\n",
    "        for j in range(n):\n",
    "            if index < len(indices_2d) and i == indices_2d[index][0] \\\n",
    "                and j == indices_2d[index][1] and i < j:\n",
    "                print('*', end=' ')\n",
    "                correlation[i][j] = 1\n",
    "                index += 1\n",
    "                count += 1\n",
    "            elif i > j:\n",
    "                print(' ', end=' ')\n",
    "            else:\n",
    "                print('-', end=' ')\n",
    "        print(' ', count)\n",
    "    \n",
    "    return indices_2d, correlation"
   ]
  },
  {
   "cell_type": "code",
   "execution_count": 10,
   "metadata": {},
   "outputs": [],
   "source": [
    "desired_columns = ['v' + str(x) for x in range(9, 22)]\n",
    "desired_columns.append('v24')"
   ]
  },
  {
   "cell_type": "code",
   "execution_count": 11,
   "metadata": {},
   "outputs": [
    {
     "name": "stdout",
     "output_type": "stream",
     "text": [
      "['v9', 'v10', 'v11', 'v12', 'v13', 'v14', 'v15', 'v16', 'v17', 'v18', 'v19', 'v20', 'v21', 'v24']\n"
     ]
    }
   ],
   "source": [
    "print(desired_columns)"
   ]
  },
  {
   "cell_type": "code",
   "execution_count": 12,
   "metadata": {},
   "outputs": [],
   "source": [
    "df = df[desired_columns]"
   ]
  },
  {
   "cell_type": "code",
   "execution_count": 41,
   "metadata": {},
   "outputs": [
    {
     "data": {
      "text/html": [
       "<div>\n",
       "<style scoped>\n",
       "    .dataframe tbody tr th:only-of-type {\n",
       "        vertical-align: middle;\n",
       "    }\n",
       "\n",
       "    .dataframe tbody tr th {\n",
       "        vertical-align: top;\n",
       "    }\n",
       "\n",
       "    .dataframe thead th {\n",
       "        text-align: right;\n",
       "    }\n",
       "</style>\n",
       "<table border=\"1\" class=\"dataframe\">\n",
       "  <thead>\n",
       "    <tr style=\"text-align: right;\">\n",
       "      <th></th>\n",
       "      <th>v9</th>\n",
       "      <th>v10</th>\n",
       "      <th>v11</th>\n",
       "      <th>v12</th>\n",
       "      <th>v13</th>\n",
       "      <th>v14</th>\n",
       "      <th>v15</th>\n",
       "      <th>v16</th>\n",
       "      <th>v17</th>\n",
       "      <th>v18</th>\n",
       "      <th>v19</th>\n",
       "      <th>v20</th>\n",
       "      <th>v21</th>\n",
       "      <th>v24</th>\n",
       "    </tr>\n",
       "    <tr>\n",
       "      <th>ID</th>\n",
       "      <th></th>\n",
       "      <th></th>\n",
       "      <th></th>\n",
       "      <th></th>\n",
       "      <th></th>\n",
       "      <th></th>\n",
       "      <th></th>\n",
       "      <th></th>\n",
       "      <th></th>\n",
       "      <th></th>\n",
       "      <th></th>\n",
       "      <th></th>\n",
       "      <th></th>\n",
       "      <th></th>\n",
       "    </tr>\n",
       "  </thead>\n",
       "  <tbody>\n",
       "    <tr>\n",
       "      <th>1</th>\n",
       "      <td>21</td>\n",
       "      <td>43</td>\n",
       "      <td>16</td>\n",
       "      <td>18.38</td>\n",
       "      <td>20</td>\n",
       "      <td>320.78</td>\n",
       "      <td>17.91</td>\n",
       "      <td>269.87</td>\n",
       "      <td>60.66</td>\n",
       "      <td>19.83</td>\n",
       "      <td>172.13</td>\n",
       "      <td>4.003023</td>\n",
       "      <td>1.00</td>\n",
       "      <td>8</td>\n",
       "    </tr>\n",
       "    <tr>\n",
       "      <th>2</th>\n",
       "      <td>35</td>\n",
       "      <td>72</td>\n",
       "      <td>17</td>\n",
       "      <td>18.01</td>\n",
       "      <td>25</td>\n",
       "      <td>472.39</td>\n",
       "      <td>21.73</td>\n",
       "      <td>221.73</td>\n",
       "      <td>58.26</td>\n",
       "      <td>23.83</td>\n",
       "      <td>93.10</td>\n",
       "      <td>0.651049</td>\n",
       "      <td>0.96</td>\n",
       "      <td>9</td>\n",
       "    </tr>\n",
       "    <tr>\n",
       "      <th>3</th>\n",
       "      <td>36</td>\n",
       "      <td>68</td>\n",
       "      <td>26</td>\n",
       "      <td>17.28</td>\n",
       "      <td>28</td>\n",
       "      <td>500.05</td>\n",
       "      <td>22.36</td>\n",
       "      <td>256.38</td>\n",
       "      <td>55.42</td>\n",
       "      <td>23.92</td>\n",
       "      <td>113.64</td>\n",
       "      <td>1.475844</td>\n",
       "      <td>1.17</td>\n",
       "      <td>16</td>\n",
       "    </tr>\n",
       "    <tr>\n",
       "      <th>4</th>\n",
       "      <td>77</td>\n",
       "      <td>129</td>\n",
       "      <td>28</td>\n",
       "      <td>16.33</td>\n",
       "      <td>36</td>\n",
       "      <td>1218.80</td>\n",
       "      <td>34.91</td>\n",
       "      <td>349.13</td>\n",
       "      <td>87.00</td>\n",
       "      <td>45.40</td>\n",
       "      <td>147.77</td>\n",
       "      <td>0.204385</td>\n",
       "      <td>0.73</td>\n",
       "      <td>24</td>\n",
       "    </tr>\n",
       "    <tr>\n",
       "      <th>5</th>\n",
       "      <td>55</td>\n",
       "      <td>94</td>\n",
       "      <td>27</td>\n",
       "      <td>14.61</td>\n",
       "      <td>29</td>\n",
       "      <td>710.74</td>\n",
       "      <td>26.66</td>\n",
       "      <td>225.29</td>\n",
       "      <td>66.68</td>\n",
       "      <td>28.20</td>\n",
       "      <td>92.12</td>\n",
       "      <td>0.387059</td>\n",
       "      <td>0.74</td>\n",
       "      <td>18</td>\n",
       "    </tr>\n",
       "  </tbody>\n",
       "</table>\n",
       "</div>"
      ],
      "text/plain": [
       "    v9  v10  v11    v12  v13      v14    v15     v16    v17    v18     v19  \\\n",
       "ID                                                                           \n",
       "1   21   43   16  18.38   20   320.78  17.91  269.87  60.66  19.83  172.13   \n",
       "2   35   72   17  18.01   25   472.39  21.73  221.73  58.26  23.83   93.10   \n",
       "3   36   68   26  17.28   28   500.05  22.36  256.38  55.42  23.92  113.64   \n",
       "4   77  129   28  16.33   36  1218.80  34.91  349.13  87.00  45.40  147.77   \n",
       "5   55   94   27  14.61   29   710.74  26.66  225.29  66.68  28.20   92.12   \n",
       "\n",
       "         v20   v21  v24  \n",
       "ID                       \n",
       "1   4.003023  1.00    8  \n",
       "2   0.651049  0.96    9  \n",
       "3   1.475844  1.17   16  \n",
       "4   0.204385  0.73   24  \n",
       "5   0.387059  0.74   18  "
      ]
     },
     "execution_count": 41,
     "metadata": {},
     "output_type": "execute_result"
    }
   ],
   "source": [
    "df.head()"
   ]
  },
  {
   "cell_type": "code",
   "execution_count": 42,
   "metadata": {},
   "outputs": [],
   "source": [
    "df.columns = ['v' + str(i+1) for i, x in enumerate(desired_columns)]"
   ]
  },
  {
   "cell_type": "code",
   "execution_count": 43,
   "metadata": {},
   "outputs": [
    {
     "data": {
      "text/html": [
       "<div>\n",
       "<style scoped>\n",
       "    .dataframe tbody tr th:only-of-type {\n",
       "        vertical-align: middle;\n",
       "    }\n",
       "\n",
       "    .dataframe tbody tr th {\n",
       "        vertical-align: top;\n",
       "    }\n",
       "\n",
       "    .dataframe thead th {\n",
       "        text-align: right;\n",
       "    }\n",
       "</style>\n",
       "<table border=\"1\" class=\"dataframe\">\n",
       "  <thead>\n",
       "    <tr style=\"text-align: right;\">\n",
       "      <th></th>\n",
       "      <th>v1</th>\n",
       "      <th>v2</th>\n",
       "      <th>v3</th>\n",
       "      <th>v4</th>\n",
       "      <th>v5</th>\n",
       "      <th>v6</th>\n",
       "      <th>v7</th>\n",
       "      <th>v8</th>\n",
       "      <th>v9</th>\n",
       "      <th>v10</th>\n",
       "      <th>v11</th>\n",
       "      <th>v12</th>\n",
       "      <th>v13</th>\n",
       "      <th>v14</th>\n",
       "    </tr>\n",
       "    <tr>\n",
       "      <th>ID</th>\n",
       "      <th></th>\n",
       "      <th></th>\n",
       "      <th></th>\n",
       "      <th></th>\n",
       "      <th></th>\n",
       "      <th></th>\n",
       "      <th></th>\n",
       "      <th></th>\n",
       "      <th></th>\n",
       "      <th></th>\n",
       "      <th></th>\n",
       "      <th></th>\n",
       "      <th></th>\n",
       "      <th></th>\n",
       "    </tr>\n",
       "  </thead>\n",
       "  <tbody>\n",
       "    <tr>\n",
       "      <th>1</th>\n",
       "      <td>21</td>\n",
       "      <td>43</td>\n",
       "      <td>16</td>\n",
       "      <td>18.38</td>\n",
       "      <td>20</td>\n",
       "      <td>320.78</td>\n",
       "      <td>17.91</td>\n",
       "      <td>269.87</td>\n",
       "      <td>60.66</td>\n",
       "      <td>19.83</td>\n",
       "      <td>172.13</td>\n",
       "      <td>4.003023</td>\n",
       "      <td>1.00</td>\n",
       "      <td>8</td>\n",
       "    </tr>\n",
       "    <tr>\n",
       "      <th>2</th>\n",
       "      <td>35</td>\n",
       "      <td>72</td>\n",
       "      <td>17</td>\n",
       "      <td>18.01</td>\n",
       "      <td>25</td>\n",
       "      <td>472.39</td>\n",
       "      <td>21.73</td>\n",
       "      <td>221.73</td>\n",
       "      <td>58.26</td>\n",
       "      <td>23.83</td>\n",
       "      <td>93.10</td>\n",
       "      <td>0.651049</td>\n",
       "      <td>0.96</td>\n",
       "      <td>9</td>\n",
       "    </tr>\n",
       "    <tr>\n",
       "      <th>3</th>\n",
       "      <td>36</td>\n",
       "      <td>68</td>\n",
       "      <td>26</td>\n",
       "      <td>17.28</td>\n",
       "      <td>28</td>\n",
       "      <td>500.05</td>\n",
       "      <td>22.36</td>\n",
       "      <td>256.38</td>\n",
       "      <td>55.42</td>\n",
       "      <td>23.92</td>\n",
       "      <td>113.64</td>\n",
       "      <td>1.475844</td>\n",
       "      <td>1.17</td>\n",
       "      <td>16</td>\n",
       "    </tr>\n",
       "    <tr>\n",
       "      <th>4</th>\n",
       "      <td>77</td>\n",
       "      <td>129</td>\n",
       "      <td>28</td>\n",
       "      <td>16.33</td>\n",
       "      <td>36</td>\n",
       "      <td>1218.80</td>\n",
       "      <td>34.91</td>\n",
       "      <td>349.13</td>\n",
       "      <td>87.00</td>\n",
       "      <td>45.40</td>\n",
       "      <td>147.77</td>\n",
       "      <td>0.204385</td>\n",
       "      <td>0.73</td>\n",
       "      <td>24</td>\n",
       "    </tr>\n",
       "    <tr>\n",
       "      <th>5</th>\n",
       "      <td>55</td>\n",
       "      <td>94</td>\n",
       "      <td>27</td>\n",
       "      <td>14.61</td>\n",
       "      <td>29</td>\n",
       "      <td>710.74</td>\n",
       "      <td>26.66</td>\n",
       "      <td>225.29</td>\n",
       "      <td>66.68</td>\n",
       "      <td>28.20</td>\n",
       "      <td>92.12</td>\n",
       "      <td>0.387059</td>\n",
       "      <td>0.74</td>\n",
       "      <td>18</td>\n",
       "    </tr>\n",
       "  </tbody>\n",
       "</table>\n",
       "</div>"
      ],
      "text/plain": [
       "    v1   v2  v3     v4  v5       v6     v7      v8     v9    v10     v11  \\\n",
       "ID                                                                         \n",
       "1   21   43  16  18.38  20   320.78  17.91  269.87  60.66  19.83  172.13   \n",
       "2   35   72  17  18.01  25   472.39  21.73  221.73  58.26  23.83   93.10   \n",
       "3   36   68  26  17.28  28   500.05  22.36  256.38  55.42  23.92  113.64   \n",
       "4   77  129  28  16.33  36  1218.80  34.91  349.13  87.00  45.40  147.77   \n",
       "5   55   94  27  14.61  29   710.74  26.66  225.29  66.68  28.20   92.12   \n",
       "\n",
       "         v12   v13  v14  \n",
       "ID                       \n",
       "1   4.003023  1.00    8  \n",
       "2   0.651049  0.96    9  \n",
       "3   1.475844  1.17   16  \n",
       "4   0.204385  0.73   24  \n",
       "5   0.387059  0.74   18  "
      ]
     },
     "execution_count": 43,
     "metadata": {},
     "output_type": "execute_result"
    }
   ],
   "source": [
    "df.head()"
   ]
  },
  {
   "cell_type": "code",
   "execution_count": 44,
   "metadata": {},
   "outputs": [
    {
     "name": "stdout",
     "output_type": "stream",
     "text": [
      "v01: - * * * * * * * * * - - - -   9\n",
      "v02:   - * * * * * * * * * - - -   9\n",
      "v03:     - - * * * * * * - - - -   6\n",
      "v04:       - * - - * - * - - - -   3\n",
      "v05:         - - * * * * * - - -   5\n",
      "v06:           - * * * - - - - *   4\n",
      "v07:             - * * * - - - -   3\n",
      "v08:               - * * * - - *   4\n",
      "v09:                 - * * - - *   3\n",
      "v10:                   - - - - -   0\n",
      "v11:                     - - - *   1\n",
      "v12:                       - - -   0\n",
      "v13:                         - -   0\n",
      "v14:                           -   0\n"
     ]
    }
   ],
   "source": [
    "indices, correlation = get_correlation_indices(df, 0.8)"
   ]
  },
  {
   "cell_type": "code",
   "execution_count": 25,
   "metadata": {},
   "outputs": [],
   "source": [
    "def fit_and_display(output, inputs, constant=True, display=True):\n",
    "    \"\"\"\n",
    "    Fits an OLS model with the given output and inputs and shows the\n",
    "    result summary.\n",
    "    \n",
    "    Args:\n",
    "        output: int, the DV\n",
    "        inputs: list of int, the IVs. Both args are 1-based indexed.\n",
    "    \"\"\"\n",
    "    Y = df['v' + str(output)]\n",
    "    X = df[['v' + str(x) for x in inputs]]\n",
    "    \n",
    "    if constant:\n",
    "        X = sm.add_constant(X)\n",
    "    \n",
    "    model = sm.OLS(Y, X)\n",
    "    results = model.fit()\n",
    "    \n",
    "    if display:\n",
    "        print(results.summary())\n",
    "        \n",
    "    return results"
   ]
  },
  {
   "cell_type": "code",
   "execution_count": 39,
   "metadata": {},
   "outputs": [],
   "source": [
    "def print_regression_experiments(output):\n",
    "    \"\"\"\n",
    "    Performs regression by adding variables one by one, with and without the\n",
    "    constant, and prints a tabular version of the results.\n",
    "    \n",
    "    Args:\n",
    "        output: The output variable\n",
    "    \"\"\"\n",
    "    var_corr = correlation[output - 1]  # Because output is 1-based indexed\n",
    "    \n",
    "    # Get correlated IVs\n",
    "    ivs = np.where(var_corr == 1)[0]\n",
    "    \n",
    "    # Convert to 1-based indexing\n",
    "    ivs += 1\n",
    "        \n",
    "    # List of IVs to consider\n",
    "    considered_ivs = []\n",
    "\n",
    "    # Print header\n",
    "    printed = 'Expt. No.|DV |IVs | Adj. R^2|Significant IVs\\n---|:---:|:---:|:---:|---\\n'\n",
    "    expt_no = 1\n",
    "\n",
    "    for i in range(len(ivs)):    \n",
    "        # First with constant\n",
    "        printed += str(expt_no) + '|'\n",
    "        expt_no += 1\n",
    "\n",
    "        considered_ivs.append(ivs[i])\n",
    "        result = fit_and_display(output, considered_ivs, display=False)\n",
    "\n",
    "        # For printing\n",
    "        print_ivs = ['v' + str(x) for x in considered_ivs]\n",
    "\n",
    "        # Get metrics\n",
    "        adj_r2 = result.rsquared_adj\n",
    "        adj_r2 = int(adj_r2 * 1000) / 1000  # Want only 3 decimal places\n",
    "        pvalues = np.array(result.pvalues)\n",
    "\n",
    "        # Add result to Markdown table\n",
    "        if np.all(pvalues < 0.05):\n",
    "            printed += ('v' + str(output) + ' |' + ','.join(print_ivs) + '|' + str(adj_r2) + '|All\\n')\n",
    "        else:\n",
    "            significant = np.where(pvalues < 0.05)[0]\n",
    "            # [x-1] index is required because here, the constant is the first index.\n",
    "            printed += ('v' + str(output) + ' |' + ','.join(print_ivs) + '|' + \n",
    "                        str(adj_r2) + '|' + ','.join(['v' + str(ivs[x - 1]) for x in significant]) + '\\n')\n",
    "\n",
    "        # Next without constant\n",
    "        printed += str(expt_no) + '|'\n",
    "        expt_no += 1\n",
    "\n",
    "        result = fit_and_display(output, considered_ivs, constant=False, display=False)\n",
    "        adj_r2 = result.rsquared_adj\n",
    "        adj_r2 = int(adj_r2 * 1000) / 1000\n",
    "        pvalues = np.array(result.pvalues)\n",
    "\n",
    "        if np.all(pvalues < 0.05):\n",
    "            printed += ('v' + str(output) + ' |' + ','.join(print_ivs) + ' (no const)|' + str(adj_r2) + '|All\\n')\n",
    "        else:\n",
    "            significant = np.where(pvalues < 0.05)[0]\n",
    "            printed += ('v' + str(output) + ' |' + ','.join(print_ivs) + ' (no const)|' + str(adj_r2) + '|' + \n",
    "                        ','.join(['v' + str(ivs[x]) for x in significant]) + '\\n')\n",
    "\n",
    "    # Print the Markdown\n",
    "    display(Markdown(printed))"
   ]
  },
  {
   "cell_type": "markdown",
   "metadata": {},
   "source": [
    "## Experiments"
   ]
  },
  {
   "cell_type": "code",
   "execution_count": 45,
   "metadata": {},
   "outputs": [
    {
     "data": {
      "text/markdown": [
       "Expt. No.|DV |IVs | Adj. R^2|Significant IVs\n",
       "---|:---:|:---:|:---:|---\n",
       "1|v1 |v2|0.94|All\n",
       "2|v1 |v2 (no const)|0.966|All\n",
       "3|v1 |v2,v3|0.945|v2,v3\n",
       "4|v1 |v2,v3 (no const)|0.969|All\n",
       "5|v1 |v2,v3,v4|0.954|All\n",
       "6|v1 |v2,v3,v4 (no const)|0.974|All\n",
       "7|v1 |v2,v3,v4,v5|0.956|v10,v2,v3,v5\n",
       "8|v1 |v2,v3,v4,v5 (no const)|0.975|v2,v3,v5\n",
       "9|v1 |v2,v3,v4,v5,v6|0.957|v10,v2,v3,v5\n",
       "10|v1 |v2,v3,v4,v5,v6 (no const)|0.976|v2,v3,v5,v6\n",
       "11|v1 |v2,v3,v4,v5,v6,v7|0.961|v2,v3,v5,v6,v7\n",
       "12|v1 |v2,v3,v4,v5,v6,v7 (no const)|0.978|v2,v3,v5,v6,v7\n",
       "13|v1 |v2,v3,v4,v5,v6,v7,v8|0.963|v2,v3,v4,v5,v6,v7,v8\n",
       "14|v1 |v2,v3,v4,v5,v6,v7,v8 (no const)|0.98|All\n",
       "15|v1 |v2,v3,v4,v5,v6,v7,v8,v9|0.974|v2,v3,v5,v6,v7,v9\n",
       "16|v1 |v2,v3,v4,v5,v6,v7,v8,v9 (no const)|0.985|v2,v3,v5,v6,v7,v9\n",
       "17|v1 |v2,v3,v4,v5,v6,v7,v8,v9,v10|0.98|v2,v3,v4,v6,v7,v8,v9,v10\n",
       "18|v1 |v2,v3,v4,v5,v6,v7,v8,v9,v10 (no const)|0.988|v2,v3,v4,v6,v7,v8,v9,v10\n"
      ],
      "text/plain": [
       "<IPython.core.display.Markdown object>"
      ]
     },
     "metadata": {},
     "output_type": "display_data"
    }
   ],
   "source": [
    "print_regression_experiments(1)"
   ]
  },
  {
   "cell_type": "code",
   "execution_count": 46,
   "metadata": {},
   "outputs": [
    {
     "data": {
      "text/markdown": [
       "Expt. No.|DV |IVs | Adj. R^2|Significant IVs\n",
       "---|:---:|:---:|:---:|---\n",
       "1|v2 |v3|0.852|All\n",
       "2|v2 |v3 (no const)|0.911|All\n",
       "3|v2 |v3,v4|0.88|All\n",
       "4|v2 |v3,v4 (no const)|0.926|All\n",
       "5|v2 |v3,v4,v5|0.943|All\n",
       "6|v2 |v3,v4,v5 (no const)|0.965|All\n",
       "7|v2 |v3,v4,v5,v6|0.958|v3,v4,v5,v6\n",
       "8|v2 |v3,v4,v5,v6 (no const)|0.976|All\n",
       "9|v2 |v3,v4,v5,v6,v7|0.96|v11,v4,v5,v6,v7\n",
       "10|v2 |v3,v4,v5,v6,v7 (no const)|0.977|v4,v5,v6,v7\n",
       "11|v2 |v3,v4,v5,v6,v7,v8|0.961|v11,v4,v5,v6,v7,v8\n",
       "12|v2 |v3,v4,v5,v6,v7,v8 (no const)|0.977|v4,v5,v6,v7,v8\n",
       "13|v2 |v3,v4,v5,v6,v7,v8,v9|0.98|v11,v3,v5,v6,v7,v8,v9\n",
       "14|v2 |v3,v4,v5,v6,v7,v8,v9 (no const)|0.988|v3,v5,v6,v7,v8,v9\n",
       "15|v2 |v3,v4,v5,v6,v7,v8,v9,v10|0.987|All\n",
       "16|v2 |v3,v4,v5,v6,v7,v8,v9,v10 (no const)|0.992|All\n",
       "17|v2 |v3,v4,v5,v6,v7,v8,v9,v10,v11|0.987|v11,v3,v4,v6,v7,v8,v9,v10,v11\n",
       "18|v2 |v3,v4,v5,v6,v7,v8,v9,v10,v11 (no const)|0.992|v3,v4,v6,v7,v8,v9,v10,v11\n"
      ],
      "text/plain": [
       "<IPython.core.display.Markdown object>"
      ]
     },
     "metadata": {},
     "output_type": "display_data"
    }
   ],
   "source": [
    "print_regression_experiments(2)"
   ]
  },
  {
   "cell_type": "code",
   "execution_count": 47,
   "metadata": {},
   "outputs": [
    {
     "data": {
      "text/markdown": [
       "Expt. No.|DV |IVs | Adj. R^2|Significant IVs\n",
       "---|:---:|:---:|:---:|---\n",
       "1|v3 |v5|0.809|All\n",
       "2|v3 |v5 (no const)|0.902|All\n",
       "3|v3 |v5,v6|0.832|All\n",
       "4|v3 |v5,v6 (no const)|0.905|All\n",
       "5|v3 |v5,v6,v7|0.936|All\n",
       "6|v3 |v5,v6,v7 (no const)|0.97|All\n",
       "7|v3 |v5,v6,v7,v8|0.936|v10,v5,v6,v7\n",
       "8|v3 |v5,v6,v7,v8 (no const)|0.97|v5,v6,v7\n",
       "9|v3 |v5,v6,v7,v8,v9|0.938|v10,v5,v6,v7,v9\n",
       "10|v3 |v5,v6,v7,v8,v9 (no const)|0.971|v5,v6,v7,v9\n",
       "11|v3 |v5,v6,v7,v8,v9,v10|0.939|v10,v5,v6,v7,v9,v10\n",
       "12|v3 |v5,v6,v7,v8,v9,v10 (no const)|0.972|v5,v6,v7,v9,v10\n"
      ],
      "text/plain": [
       "<IPython.core.display.Markdown object>"
      ]
     },
     "metadata": {},
     "output_type": "display_data"
    }
   ],
   "source": [
    "print_regression_experiments(3)"
   ]
  },
  {
   "cell_type": "code",
   "execution_count": 48,
   "metadata": {},
   "outputs": [
    {
     "data": {
      "text/markdown": [
       "Expt. No.|DV |IVs | Adj. R^2|Significant IVs\n",
       "---|:---:|:---:|:---:|---\n",
       "1|v5 |v7|0.809|v7\n",
       "2|v5 |v7 (no const)|0.901|All\n",
       "3|v5 |v7,v8|0.842|All\n",
       "4|v5 |v7,v8 (no const)|0.912|All\n",
       "5|v5 |v7,v8,v9|0.865|All\n",
       "6|v5 |v7,v8,v9 (no const)|0.923|All\n",
       "7|v5 |v7,v8,v9,v10|0.971|v11,v8,v9,v10\n",
       "8|v5 |v7,v8,v9,v10 (no const)|0.984|All\n",
       "9|v5 |v7,v8,v9,v10,v11|0.971|v11,v8,v9,v10\n",
       "10|v5 |v7,v8,v9,v10,v11 (no const)|0.984|v8,v9,v10\n"
      ],
      "text/plain": [
       "<IPython.core.display.Markdown object>"
      ]
     },
     "metadata": {},
     "output_type": "display_data"
    }
   ],
   "source": [
    "print_regression_experiments(5)"
   ]
  },
  {
   "cell_type": "code",
   "execution_count": 49,
   "metadata": {},
   "outputs": [
    {
     "data": {
      "text/markdown": [
       "Expt. No.|DV |IVs | Adj. R^2|Significant IVs\n",
       "---|:---:|:---:|:---:|---\n",
       "1|v6 |v7|0.809|All\n",
       "2|v6 |v7 (no const)|0.75|All\n",
       "3|v6 |v7,v8|0.864|All\n",
       "4|v6 |v7,v8 (no const)|0.864|All\n",
       "5|v6 |v7,v8,v9|0.865|All\n",
       "6|v6 |v7,v8,v9 (no const)|0.864|v7,v8\n",
       "7|v6 |v7,v8,v9,v14|0.891|All\n",
       "8|v6 |v7,v8,v9,v14 (no const)|0.897|All\n"
      ],
      "text/plain": [
       "<IPython.core.display.Markdown object>"
      ]
     },
     "metadata": {},
     "output_type": "display_data"
    }
   ],
   "source": [
    "print_regression_experiments(6)"
   ]
  },
  {
   "cell_type": "code",
   "execution_count": 50,
   "metadata": {},
   "outputs": [
    {
     "data": {
      "text/markdown": [
       "Expt. No.|DV |IVs | Adj. R^2|Significant IVs\n",
       "---|:---:|:---:|:---:|---\n",
       "1|v8 |v9|0.716|All\n",
       "2|v8 |v9 (no const)|0.745|All\n",
       "3|v8 |v9,v10|0.815|All\n",
       "4|v8 |v9,v10 (no const)|0.807|All\n",
       "5|v8 |v9,v10,v11|0.892|All\n",
       "6|v8 |v9,v10,v11 (no const)|0.902|v10,v11\n",
       "7|v8 |v9,v10,v11,v14|0.908|v14,v10,v11,v14\n",
       "8|v8 |v9,v10,v11,v14 (no const)|0.922|All\n"
      ],
      "text/plain": [
       "<IPython.core.display.Markdown object>"
      ]
     },
     "metadata": {},
     "output_type": "display_data"
    }
   ],
   "source": [
    "print_regression_experiments(8)"
   ]
  },
  {
   "cell_type": "markdown",
   "metadata": {},
   "source": [
    "The others may not be worth pursuing, seeing the drop in adj. R^2. Still, have to confirm"
   ]
  },
  {
   "cell_type": "code",
   "execution_count": 51,
   "metadata": {},
   "outputs": [
    {
     "data": {
      "text/markdown": [
       "Expt. No.|DV |IVs | Adj. R^2|Significant IVs\n",
       "---|:---:|:---:|:---:|---\n",
       "1|v4 |v5|0.885|v5\n",
       "2|v4 |v5 (no const)|0.937|All\n",
       "3|v4 |v5,v8|0.887|v5,v8\n",
       "4|v4 |v5,v8 (no const)|0.938|All\n",
       "5|v4 |v5,v8,v10|0.908|v10,v5,v10\n",
       "6|v4 |v5,v8,v10 (no const)|0.949|v5,v10\n"
      ],
      "text/plain": [
       "<IPython.core.display.Markdown object>"
      ]
     },
     "metadata": {},
     "output_type": "display_data"
    }
   ],
   "source": [
    "print_regression_experiments(4)"
   ]
  },
  {
   "cell_type": "code",
   "execution_count": 52,
   "metadata": {},
   "outputs": [
    {
     "data": {
      "text/markdown": [
       "Expt. No.|DV |IVs | Adj. R^2|Significant IVs\n",
       "---|:---:|:---:|:---:|---\n",
       "1|v7 |v8|0.761|All\n",
       "2|v7 |v8 (no const)|0.745|All\n",
       "3|v7 |v8,v9|0.901|All\n",
       "4|v7 |v8,v9 (no const)|0.933|All\n",
       "5|v7 |v8,v9,v10|0.904|All\n",
       "6|v7 |v8,v9,v10 (no const)|0.942|v9,v10\n"
      ],
      "text/plain": [
       "<IPython.core.display.Markdown object>"
      ]
     },
     "metadata": {},
     "output_type": "display_data"
    }
   ],
   "source": [
    "print_regression_experiments(7)"
   ]
  },
  {
   "cell_type": "code",
   "execution_count": 53,
   "metadata": {},
   "outputs": [
    {
     "data": {
      "text/markdown": [
       "Expt. No.|DV |IVs | Adj. R^2|Significant IVs\n",
       "---|:---:|:---:|:---:|---\n",
       "1|v9 |v10|0.676|All\n",
       "2|v9 |v10 (no const)|0.809|All\n",
       "3|v9 |v10,v11|0.768|All\n",
       "4|v9 |v10,v11 (no const)|0.848|All\n",
       "5|v9 |v10,v11,v14|0.811|All\n",
       "6|v9 |v10,v11,v14 (no const)|0.867|All\n"
      ],
      "text/plain": [
       "<IPython.core.display.Markdown object>"
      ]
     },
     "metadata": {},
     "output_type": "display_data"
    }
   ],
   "source": [
    "print_regression_experiments(9)"
   ]
  },
  {
   "cell_type": "code",
   "execution_count": 54,
   "metadata": {},
   "outputs": [
    {
     "data": {
      "text/markdown": [
       "Expt. No.|DV |IVs | Adj. R^2|Significant IVs\n",
       "---|:---:|:---:|:---:|---\n",
       "1|v11 |v14|0.656|All\n",
       "2|v11 |v14 (no const)|0.693|All\n"
      ],
      "text/plain": [
       "<IPython.core.display.Markdown object>"
      ]
     },
     "metadata": {},
     "output_type": "display_data"
    }
   ],
   "source": [
    "print_regression_experiments(11)"
   ]
  },
  {
   "cell_type": "markdown",
   "metadata": {},
   "source": [
    "In this subset, does the number of correlations affect the best adj. R^2? Quite probably yes."
   ]
  },
  {
   "cell_type": "code",
   "execution_count": 58,
   "metadata": {},
   "outputs": [
    {
     "data": {
      "image/png": "[encoded data removed]",
      "text/plain": [
       "<Figure size 432x288 with 1 Axes>"
      ]
     },
     "metadata": {},
     "output_type": "display_data"
    }
   ],
   "source": [
    "x = [9, 9, 6, 5, 4, 4, 3, 3, 3, 1]\n",
    "y = [0.988, 0.992, 0.972, 0.984, 0.897, 0.922, 0.949, 0.942, 0.867, 0.693]\n",
    "\n",
    "plt.scatter(x, y);"
   ]
  },
  {
   "cell_type": "code",
   "execution_count": 59,
   "metadata": {},
   "outputs": [
    {
     "data": {
      "text/plain": [
       "array([0.12546518, 0.74665417])"
      ]
     },
     "execution_count": 59,
     "metadata": {},
     "output_type": "execute_result"
    }
   ],
   "source": [
    "np.polyfit(np.log(x), y, 1)"
   ]
  },
  {
   "cell_type": "code",
   "execution_count": 63,
   "metadata": {},
   "outputs": [
    {
     "data": {
      "image/png": "[encoded data removed]",
      "text/plain": [
       "<Figure size 432x288 with 1 Axes>"
      ]
     },
     "metadata": {},
     "output_type": "display_data"
    }
   ],
   "source": [
    "plt.scatter(x, y);\n",
    "\n",
    "a = range(1, 10)\n",
    "b = [0.12546518 * np.log(t) + 0.74665417 for t in a]\n",
    "plt.plot(a, b)\n",
    "\n",
    "plt.xlabel('Number of correlated variables')\n",
    "plt.ylabel('Best adj. $R^2$')\n",
    "plt.show()"
   ]
  },
  {
   "cell_type": "code",
   "execution_count": null,
   "metadata": {},
   "outputs": [],
   "source": []
  }
 ],
 "metadata": {
  "kernelspec": {
   "display_name": "Python 3",
   "language": "python",
   "name": "python3"
  },
  "language_info": {
   "codemirror_mode": {
    "name": "ipython",
    "version": 3
   },
   "file_extension": ".py",
   "mimetype": "text/x-python",
   "name": "python",
   "nbconvert_exporter": "python",
   "pygments_lexer": "ipython3",
   "version": "3.7.1"
  }
 },
 "nbformat": 4,
 "nbformat_minor": 2
}
