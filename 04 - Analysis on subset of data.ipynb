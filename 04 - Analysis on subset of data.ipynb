{
 "cells": [
  {
   "cell_type": "markdown",
   "metadata": {},
   "source": [
    "This notebook conducts the same experiments as in notebook 02, but on v9-v21 and v24 only, as advised by Dr. Saha."
   ]
  },
  {
   "cell_type": "code",
   "execution_count": 1,
   "metadata": {},
   "outputs": [],
   "source": [
    "import numpy as np\n",
    "import pandas as pd\n",
    "import matplotlib.pyplot as plt\n",
    "\n",
    "import statsmodels.api as sm\n",
    "from IPython.display import display, Markdown\n",
    "\n",
    "plt.style.use('ggplot')"
   ]
  },
  {
   "cell_type": "code",
   "execution_count": 2,
   "metadata": {},
   "outputs": [],
   "source": [
    "df = pd.read_excel('adel.xlsx', sheet_name=1, index_col=0)"
   ]
  },
  {
   "cell_type": "code",
   "execution_count": 3,
   "metadata": {},
   "outputs": [],
   "source": [
    "def get_correlation_indices(df, threshold, cols=None):\n",
    "    \"\"\"\n",
    "    Returns the indices where the Pearson correlation coefficients are\n",
    "    above the given threshold in the given dataframe.\n",
    "    \"\"\"\n",
    "    pearsonr = np.corrcoef(df, rowvar=False)\n",
    "    n = len(df.columns)\n",
    "    indices = np.where(pearsonr.reshape(n ** 2) > threshold)[0]\n",
    "    \n",
    "    # The two conditions here make sure we do not include diagonal elements\n",
    "    # (trivial), and that we include each pair only once.\n",
    "    indices_2d = [[x // n, x % n] for x in indices if x // n != x % n and x // n < x % n]\n",
    "    \n",
    "    # Display the correlations in a matrix to make it look easier\n",
    "    index = 0\n",
    "    \n",
    "    correlation = np.zeros((len(df.columns), len(df.columns)))\n",
    "\n",
    "    for i in range(n):\n",
    "        count = 0\n",
    "        \n",
    "        if cols is None:\n",
    "            print('v' + ('0' + str(i+1))[-2:], end=': ')\n",
    "        else:\n",
    "            print((' ' + cols[i])[-3:], end=': ')\n",
    "        for j in range(n):\n",
    "            if index < len(indices_2d) and i == indices_2d[index][0] \\\n",
    "                and j == indices_2d[index][1] and i < j:\n",
    "                print('*', end=' ')\n",
    "                correlation[i][j] = 1\n",
    "                index += 1\n",
    "                count += 1\n",
    "            elif i > j:\n",
    "                print(' ', end=' ')\n",
    "            else:\n",
    "                print('-', end=' ')\n",
    "        print(' ', count)\n",
    "    \n",
    "    return indices_2d, correlation"
   ]
  },
  {
   "cell_type": "code",
   "execution_count": 4,
   "metadata": {},
   "outputs": [],
   "source": [
    "desired_columns = ['v' + str(x) for x in range(9, 22)]\n",
    "desired_columns.append('v24')"
   ]
  },
  {
   "cell_type": "code",
   "execution_count": 5,
   "metadata": {},
   "outputs": [
    {
     "name": "stdout",
     "output_type": "stream",
     "text": [
      "['v9', 'v10', 'v11', 'v12', 'v13', 'v14', 'v15', 'v16', 'v17', 'v18', 'v19', 'v20', 'v21', 'v24']\n"
     ]
    }
   ],
   "source": [
    "print(desired_columns)"
   ]
  },
  {
   "cell_type": "code",
   "execution_count": 6,
   "metadata": {},
   "outputs": [],
   "source": [
    "df = df[desired_columns]"
   ]
  },
  {
   "cell_type": "code",
   "execution_count": 7,
   "metadata": {},
   "outputs": [
    {
     "data": {
      "text/html": [
       "<div>\n",
       "<style scoped>\n",
       "    .dataframe tbody tr th:only-of-type {\n",
       "        vertical-align: middle;\n",
       "    }\n",
       "\n",
       "    .dataframe tbody tr th {\n",
       "        vertical-align: top;\n",
       "    }\n",
       "\n",
       "    .dataframe thead th {\n",
       "        text-align: right;\n",
       "    }\n",
       "</style>\n",
       "<table border=\"1\" class=\"dataframe\">\n",
       "  <thead>\n",
       "    <tr style=\"text-align: right;\">\n",
       "      <th></th>\n",
       "      <th>v9</th>\n",
       "      <th>v10</th>\n",
       "      <th>v11</th>\n",
       "      <th>v12</th>\n",
       "      <th>v13</th>\n",
       "      <th>v14</th>\n",
       "      <th>v15</th>\n",
       "      <th>v16</th>\n",
       "      <th>v17</th>\n",
       "      <th>v18</th>\n",
       "      <th>v19</th>\n",
       "      <th>v20</th>\n",
       "      <th>v21</th>\n",
       "      <th>v24</th>\n",
       "    </tr>\n",
       "    <tr>\n",
       "      <th>ID</th>\n",
       "      <th></th>\n",
       "      <th></th>\n",
       "      <th></th>\n",
       "      <th></th>\n",
       "      <th></th>\n",
       "      <th></th>\n",
       "      <th></th>\n",
       "      <th></th>\n",
       "      <th></th>\n",
       "      <th></th>\n",
       "      <th></th>\n",
       "      <th></th>\n",
       "      <th></th>\n",
       "      <th></th>\n",
       "    </tr>\n",
       "  </thead>\n",
       "  <tbody>\n",
       "    <tr>\n",
       "      <th>1</th>\n",
       "      <td>21</td>\n",
       "      <td>43</td>\n",
       "      <td>16</td>\n",
       "      <td>18.38</td>\n",
       "      <td>20</td>\n",
       "      <td>320.78</td>\n",
       "      <td>17.91</td>\n",
       "      <td>269.87</td>\n",
       "      <td>60.66</td>\n",
       "      <td>19.83</td>\n",
       "      <td>172.13</td>\n",
       "      <td>4.003023</td>\n",
       "      <td>1.00</td>\n",
       "      <td>8</td>\n",
       "    </tr>\n",
       "    <tr>\n",
       "      <th>2</th>\n",
       "      <td>35</td>\n",
       "      <td>72</td>\n",
       "      <td>17</td>\n",
       "      <td>18.01</td>\n",
       "      <td>25</td>\n",
       "      <td>472.39</td>\n",
       "      <td>21.73</td>\n",
       "      <td>221.73</td>\n",
       "      <td>58.26</td>\n",
       "      <td>23.83</td>\n",
       "      <td>93.10</td>\n",
       "      <td>0.651049</td>\n",
       "      <td>0.96</td>\n",
       "      <td>9</td>\n",
       "    </tr>\n",
       "    <tr>\n",
       "      <th>3</th>\n",
       "      <td>36</td>\n",
       "      <td>68</td>\n",
       "      <td>26</td>\n",
       "      <td>17.28</td>\n",
       "      <td>28</td>\n",
       "      <td>500.05</td>\n",
       "      <td>22.36</td>\n",
       "      <td>256.38</td>\n",
       "      <td>55.42</td>\n",
       "      <td>23.92</td>\n",
       "      <td>113.64</td>\n",
       "      <td>1.475844</td>\n",
       "      <td>1.17</td>\n",
       "      <td>16</td>\n",
       "    </tr>\n",
       "    <tr>\n",
       "      <th>4</th>\n",
       "      <td>77</td>\n",
       "      <td>129</td>\n",
       "      <td>28</td>\n",
       "      <td>16.33</td>\n",
       "      <td>36</td>\n",
       "      <td>1218.80</td>\n",
       "      <td>34.91</td>\n",
       "      <td>349.13</td>\n",
       "      <td>87.00</td>\n",
       "      <td>45.40</td>\n",
       "      <td>147.77</td>\n",
       "      <td>0.204385</td>\n",
       "      <td>0.73</td>\n",
       "      <td>24</td>\n",
       "    </tr>\n",
       "    <tr>\n",
       "      <th>5</th>\n",
       "      <td>55</td>\n",
       "      <td>94</td>\n",
       "      <td>27</td>\n",
       "      <td>14.61</td>\n",
       "      <td>29</td>\n",
       "      <td>710.74</td>\n",
       "      <td>26.66</td>\n",
       "      <td>225.29</td>\n",
       "      <td>66.68</td>\n",
       "      <td>28.20</td>\n",
       "      <td>92.12</td>\n",
       "      <td>0.387059</td>\n",
       "      <td>0.74</td>\n",
       "      <td>18</td>\n",
       "    </tr>\n",
       "  </tbody>\n",
       "</table>\n",
       "</div>"
      ],
      "text/plain": [
       "    v9  v10  v11    v12  v13      v14    v15     v16    v17    v18     v19  \\\n",
       "ID                                                                           \n",
       "1   21   43   16  18.38   20   320.78  17.91  269.87  60.66  19.83  172.13   \n",
       "2   35   72   17  18.01   25   472.39  21.73  221.73  58.26  23.83   93.10   \n",
       "3   36   68   26  17.28   28   500.05  22.36  256.38  55.42  23.92  113.64   \n",
       "4   77  129   28  16.33   36  1218.80  34.91  349.13  87.00  45.40  147.77   \n",
       "5   55   94   27  14.61   29   710.74  26.66  225.29  66.68  28.20   92.12   \n",
       "\n",
       "         v20   v21  v24  \n",
       "ID                       \n",
       "1   4.003023  1.00    8  \n",
       "2   0.651049  0.96    9  \n",
       "3   1.475844  1.17   16  \n",
       "4   0.204385  0.73   24  \n",
       "5   0.387059  0.74   18  "
      ]
     },
     "execution_count": 7,
     "metadata": {},
     "output_type": "execute_result"
    }
   ],
   "source": [
    "df.head()"
   ]
  },
  {
   "cell_type": "code",
   "execution_count": 8,
   "metadata": {},
   "outputs": [],
   "source": [
    "df.columns = ['v' + str(i+1) for i, x in enumerate(desired_columns)]"
   ]
  },
  {
   "cell_type": "code",
   "execution_count": 9,
   "metadata": {},
   "outputs": [
    {
     "data": {
      "text/html": [
       "<div>\n",
       "<style scoped>\n",
       "    .dataframe tbody tr th:only-of-type {\n",
       "        vertical-align: middle;\n",
       "    }\n",
       "\n",
       "    .dataframe tbody tr th {\n",
       "        vertical-align: top;\n",
       "    }\n",
       "\n",
       "    .dataframe thead th {\n",
       "        text-align: right;\n",
       "    }\n",
       "</style>\n",
       "<table border=\"1\" class=\"dataframe\">\n",
       "  <thead>\n",
       "    <tr style=\"text-align: right;\">\n",
       "      <th></th>\n",
       "      <th>v1</th>\n",
       "      <th>v2</th>\n",
       "      <th>v3</th>\n",
       "      <th>v4</th>\n",
       "      <th>v5</th>\n",
       "      <th>v6</th>\n",
       "      <th>v7</th>\n",
       "      <th>v8</th>\n",
       "      <th>v9</th>\n",
       "      <th>v10</th>\n",
       "      <th>v11</th>\n",
       "      <th>v12</th>\n",
       "      <th>v13</th>\n",
       "      <th>v14</th>\n",
       "    </tr>\n",
       "    <tr>\n",
       "      <th>ID</th>\n",
       "      <th></th>\n",
       "      <th></th>\n",
       "      <th></th>\n",
       "      <th></th>\n",
       "      <th></th>\n",
       "      <th></th>\n",
       "      <th></th>\n",
       "      <th></th>\n",
       "      <th></th>\n",
       "      <th></th>\n",
       "      <th></th>\n",
       "      <th></th>\n",
       "      <th></th>\n",
       "      <th></th>\n",
       "    </tr>\n",
       "  </thead>\n",
       "  <tbody>\n",
       "    <tr>\n",
       "      <th>1</th>\n",
       "      <td>21</td>\n",
       "      <td>43</td>\n",
       "      <td>16</td>\n",
       "      <td>18.38</td>\n",
       "      <td>20</td>\n",
       "      <td>320.78</td>\n",
       "      <td>17.91</td>\n",
       "      <td>269.87</td>\n",
       "      <td>60.66</td>\n",
       "      <td>19.83</td>\n",
       "      <td>172.13</td>\n",
       "      <td>4.003023</td>\n",
       "      <td>1.00</td>\n",
       "      <td>8</td>\n",
       "    </tr>\n",
       "    <tr>\n",
       "      <th>2</th>\n",
       "      <td>35</td>\n",
       "      <td>72</td>\n",
       "      <td>17</td>\n",
       "      <td>18.01</td>\n",
       "      <td>25</td>\n",
       "      <td>472.39</td>\n",
       "      <td>21.73</td>\n",
       "      <td>221.73</td>\n",
       "      <td>58.26</td>\n",
       "      <td>23.83</td>\n",
       "      <td>93.10</td>\n",
       "      <td>0.651049</td>\n",
       "      <td>0.96</td>\n",
       "      <td>9</td>\n",
       "    </tr>\n",
       "    <tr>\n",
       "      <th>3</th>\n",
       "      <td>36</td>\n",
       "      <td>68</td>\n",
       "      <td>26</td>\n",
       "      <td>17.28</td>\n",
       "      <td>28</td>\n",
       "      <td>500.05</td>\n",
       "      <td>22.36</td>\n",
       "      <td>256.38</td>\n",
       "      <td>55.42</td>\n",
       "      <td>23.92</td>\n",
       "      <td>113.64</td>\n",
       "      <td>1.475844</td>\n",
       "      <td>1.17</td>\n",
       "      <td>16</td>\n",
       "    </tr>\n",
       "    <tr>\n",
       "      <th>4</th>\n",
       "      <td>77</td>\n",
       "      <td>129</td>\n",
       "      <td>28</td>\n",
       "      <td>16.33</td>\n",
       "      <td>36</td>\n",
       "      <td>1218.80</td>\n",
       "      <td>34.91</td>\n",
       "      <td>349.13</td>\n",
       "      <td>87.00</td>\n",
       "      <td>45.40</td>\n",
       "      <td>147.77</td>\n",
       "      <td>0.204385</td>\n",
       "      <td>0.73</td>\n",
       "      <td>24</td>\n",
       "    </tr>\n",
       "    <tr>\n",
       "      <th>5</th>\n",
       "      <td>55</td>\n",
       "      <td>94</td>\n",
       "      <td>27</td>\n",
       "      <td>14.61</td>\n",
       "      <td>29</td>\n",
       "      <td>710.74</td>\n",
       "      <td>26.66</td>\n",
       "      <td>225.29</td>\n",
       "      <td>66.68</td>\n",
       "      <td>28.20</td>\n",
       "      <td>92.12</td>\n",
       "      <td>0.387059</td>\n",
       "      <td>0.74</td>\n",
       "      <td>18</td>\n",
       "    </tr>\n",
       "  </tbody>\n",
       "</table>\n",
       "</div>"
      ],
      "text/plain": [
       "    v1   v2  v3     v4  v5       v6     v7      v8     v9    v10     v11  \\\n",
       "ID                                                                         \n",
       "1   21   43  16  18.38  20   320.78  17.91  269.87  60.66  19.83  172.13   \n",
       "2   35   72  17  18.01  25   472.39  21.73  221.73  58.26  23.83   93.10   \n",
       "3   36   68  26  17.28  28   500.05  22.36  256.38  55.42  23.92  113.64   \n",
       "4   77  129  28  16.33  36  1218.80  34.91  349.13  87.00  45.40  147.77   \n",
       "5   55   94  27  14.61  29   710.74  26.66  225.29  66.68  28.20   92.12   \n",
       "\n",
       "         v12   v13  v14  \n",
       "ID                       \n",
       "1   4.003023  1.00    8  \n",
       "2   0.651049  0.96    9  \n",
       "3   1.475844  1.17   16  \n",
       "4   0.204385  0.73   24  \n",
       "5   0.387059  0.74   18  "
      ]
     },
     "execution_count": 9,
     "metadata": {},
     "output_type": "execute_result"
    }
   ],
   "source": [
    "df.head()"
   ]
  },
  {
   "cell_type": "code",
   "execution_count": 10,
   "metadata": {},
   "outputs": [
    {
     "name": "stdout",
     "output_type": "stream",
     "text": [
      "v01: - * * * * * * * * * - - - -   9\n",
      "v02:   - * * * * * * * * * - - -   9\n",
      "v03:     - - * * * * * * - - - -   6\n",
      "v04:       - * - - * - * - - - -   3\n",
      "v05:         - - * * * * * - - -   5\n",
      "v06:           - * * * - - - - *   4\n",
      "v07:             - * * * - - - -   3\n",
      "v08:               - * * * - - *   4\n",
      "v09:                 - * * - - *   3\n",
      "v10:                   - - - - -   0\n",
      "v11:                     - - - *   1\n",
      "v12:                       - - -   0\n",
      "v13:                         - -   0\n",
      "v14:                           -   0\n"
     ]
    }
   ],
   "source": [
    "indices, correlation = get_correlation_indices(df, 0.8)"
   ]
  },
  {
   "cell_type": "code",
   "execution_count": 11,
   "metadata": {},
   "outputs": [],
   "source": [
    "def fit_and_display(output, inputs, constant=True, display=True):\n",
    "    \"\"\"\n",
    "    Fits an OLS model with the given output and inputs and shows the\n",
    "    result summary.\n",
    "    \n",
    "    Args:\n",
    "        output: int, the DV\n",
    "        inputs: list of int, the IVs. Both args are 1-based indexed.\n",
    "    \"\"\"\n",
    "    Y = df['v' + str(output)]\n",
    "    X = df[['v' + str(x) for x in inputs]]\n",
    "    \n",
    "    if constant:\n",
    "        X = sm.add_constant(X)\n",
    "    \n",
    "    model = sm.OLS(Y, X)\n",
    "    results = model.fit()\n",
    "    \n",
    "    if display:\n",
    "        print(results.summary())\n",
    "        \n",
    "    return results"
   ]
  },
  {
   "cell_type": "code",
   "execution_count": 12,
   "metadata": {},
   "outputs": [],
   "source": [
    "def print_regression_experiments(output):\n",
    "    \"\"\"\n",
    "    Performs regression by adding variables one by one, with and without the\n",
    "    constant, and prints a tabular version of the results.\n",
    "    \n",
    "    Args:\n",
    "        output: The output variable\n",
    "    \"\"\"\n",
    "    var_corr = correlation[output - 1]  # Because output is 1-based indexed\n",
    "    \n",
    "    # Get correlated IVs\n",
    "    ivs = np.where(var_corr == 1)[0]\n",
    "    \n",
    "    # Convert to 1-based indexing\n",
    "    ivs += 1\n",
    "        \n",
    "    # List of IVs to consider\n",
    "    considered_ivs = []\n",
    "\n",
    "    # Print header\n",
    "    printed = 'Expt. No.|DV |IVs | Adj. R^2|Significant IVs\\n---|:---:|:---:|:---:|---\\n'\n",
    "    expt_no = 1\n",
    "\n",
    "    for i in range(len(ivs)):    \n",
    "        # First with constant\n",
    "        printed += str(expt_no) + '|'\n",
    "        expt_no += 1\n",
    "\n",
    "        considered_ivs.append(ivs[i])\n",
    "        result = fit_and_display(output, considered_ivs, display=False)\n",
    "\n",
    "        # For printing\n",
    "        print_ivs = ['v' + str(x) for x in considered_ivs]\n",
    "\n",
    "        # Get metrics\n",
    "        adj_r2 = result.rsquared_adj\n",
    "        adj_r2 = int(adj_r2 * 1000) / 1000  # Want only 3 decimal places\n",
    "        pvalues = np.array(result.pvalues)\n",
    "\n",
    "        # Add result to Markdown table\n",
    "        if np.all(pvalues < 0.05):\n",
    "            printed += ('v' + str(output) + ' |' + ','.join(print_ivs) + '|' + str(adj_r2) + '|All\\n')\n",
    "        else:\n",
    "            significant = np.where(pvalues < 0.05)[0]\n",
    "            # [x-1] index is required because here, the constant is the first index.\n",
    "            printed += ('v' + str(output) + ' |' + ','.join(print_ivs) + '|' + \n",
    "                        str(adj_r2) + '|' + ','.join(['v' + str(ivs[x - 1]) for x in significant]) + '\\n')\n",
    "\n",
    "        # Next without constant\n",
    "        printed += str(expt_no) + '|'\n",
    "        expt_no += 1\n",
    "\n",
    "        result = fit_and_display(output, considered_ivs, constant=False, display=False)\n",
    "        adj_r2 = result.rsquared_adj\n",
    "        adj_r2 = int(adj_r2 * 1000) / 1000\n",
    "        pvalues = np.array(result.pvalues)\n",
    "\n",
    "        if np.all(pvalues < 0.05):\n",
    "            printed += ('v' + str(output) + ' |' + ','.join(print_ivs) + ' (no const)|' + str(adj_r2) + '|All\\n')\n",
    "        else:\n",
    "            significant = np.where(pvalues < 0.05)[0]\n",
    "            printed += ('v' + str(output) + ' |' + ','.join(print_ivs) + ' (no const)|' + str(adj_r2) + '|' + \n",
    "                        ','.join(['v' + str(ivs[x]) for x in significant]) + '\\n')\n",
    "\n",
    "    # Print the Markdown\n",
    "    display(Markdown(printed))"
   ]
  },
  {
   "cell_type": "markdown",
   "metadata": {},
   "source": [
    "## Experiments"
   ]
  },
  {
   "cell_type": "code",
   "execution_count": 13,
   "metadata": {},
   "outputs": [
    {
     "data": {
      "text/markdown": [
       "Expt. No.|DV |IVs | Adj. R^2|Significant IVs\n",
       "---|:---:|:---:|:---:|---\n",
       "1|v1 |v2|0.94|All\n",
       "2|v1 |v2 (no const)|0.966|All\n",
       "3|v1 |v2,v3|0.945|v2,v3\n",
       "4|v1 |v2,v3 (no const)|0.969|All\n",
       "5|v1 |v2,v3,v4|0.954|All\n",
       "6|v1 |v2,v3,v4 (no const)|0.974|All\n",
       "7|v1 |v2,v3,v4,v5|0.956|v10,v2,v3,v5\n",
       "8|v1 |v2,v3,v4,v5 (no const)|0.975|v2,v3,v5\n",
       "9|v1 |v2,v3,v4,v5,v6|0.957|v10,v2,v3,v5\n",
       "10|v1 |v2,v3,v4,v5,v6 (no const)|0.976|v2,v3,v5,v6\n",
       "11|v1 |v2,v3,v4,v5,v6,v7|0.961|v2,v3,v5,v6,v7\n",
       "12|v1 |v2,v3,v4,v5,v6,v7 (no const)|0.978|v2,v3,v5,v6,v7\n",
       "13|v1 |v2,v3,v4,v5,v6,v7,v8|0.963|v2,v3,v4,v5,v6,v7,v8\n",
       "14|v1 |v2,v3,v4,v5,v6,v7,v8 (no const)|0.98|All\n",
       "15|v1 |v2,v3,v4,v5,v6,v7,v8,v9|0.974|v2,v3,v5,v6,v7,v9\n",
       "16|v1 |v2,v3,v4,v5,v6,v7,v8,v9 (no const)|0.985|v2,v3,v5,v6,v7,v9\n",
       "17|v1 |v2,v3,v4,v5,v6,v7,v8,v9,v10|0.98|v2,v3,v4,v6,v7,v8,v9,v10\n",
       "18|v1 |v2,v3,v4,v5,v6,v7,v8,v9,v10 (no const)|0.988|v2,v3,v4,v6,v7,v8,v9,v10\n"
      ],
      "text/plain": [
       "<IPython.core.display.Markdown object>"
      ]
     },
     "metadata": {},
     "output_type": "display_data"
    }
   ],
   "source": [
    "print_regression_experiments(1)"
   ]
  },
  {
   "cell_type": "code",
   "execution_count": 29,
   "metadata": {},
   "outputs": [
    {
     "name": "stdout",
     "output_type": "stream",
     "text": [
      "                            OLS Regression Results                            \n",
      "==============================================================================\n",
      "Dep. Variable:                     v1   R-squared:                       0.986\n",
      "Model:                            OLS   Adj. R-squared:                  0.986\n",
      "Method:                 Least Squares   F-statistic:                     7123.\n",
      "Date:                Tue, 20 Nov 2018   Prob (F-statistic):               0.00\n",
      "Time:                        19:51:29   Log-Likelihood:                -1040.4\n",
      "No. Observations:                 618   AIC:                             2093.\n",
      "Df Residuals:                     612   BIC:                             2119.\n",
      "Df Model:                           6                                         \n",
      "Covariance Type:            nonrobust                                         \n",
      "==============================================================================\n",
      "                 coef    std err          t      P>|t|      [0.025      0.975]\n",
      "------------------------------------------------------------------------------\n",
      "v2             0.5551      0.022     25.250      0.000       0.512       0.598\n",
      "v3             0.3324      0.045      7.383      0.000       0.244       0.421\n",
      "v5             0.4785      0.036     13.131      0.000       0.407       0.550\n",
      "v6             0.0038      0.001      3.461      0.001       0.002       0.006\n",
      "v7            -0.1440      0.056     -2.557      0.011      -0.255      -0.033\n",
      "v9            -0.3342      0.019    -17.388      0.000      -0.372      -0.296\n",
      "==============================================================================\n",
      "Omnibus:                      111.690   Durbin-Watson:                   1.990\n",
      "Prob(Omnibus):                  0.000   Jarque-Bera (JB):             1976.264\n",
      "Skew:                           0.078   Prob(JB):                         0.00\n",
      "Kurtosis:                      11.759   Cond. No.                         169.\n",
      "==============================================================================\n",
      "\n",
      "Warnings:\n",
      "[1] Standard Errors assume that the covariance matrix of the errors is correctly specified.\n"
     ]
    },
    {
     "data": {
      "text/plain": [
       "<statsmodels.regression.linear_model.RegressionResultsWrapper at 0x7f951a4e0a20>"
      ]
     },
     "execution_count": 29,
     "metadata": {},
     "output_type": "execute_result"
    }
   ],
   "source": [
    "fit_and_display(1, [2, 3, 5, 6, 7, 9], constant=False)"
   ]
  },
  {
   "cell_type": "code",
   "execution_count": 14,
   "metadata": {},
   "outputs": [
    {
     "data": {
      "text/markdown": [
       "Expt. No.|DV |IVs | Adj. R^2|Significant IVs\n",
       "---|:---:|:---:|:---:|---\n",
       "1|v2 |v3|0.852|All\n",
       "2|v2 |v3 (no const)|0.911|All\n",
       "3|v2 |v3,v4|0.88|All\n",
       "4|v2 |v3,v4 (no const)|0.926|All\n",
       "5|v2 |v3,v4,v5|0.943|All\n",
       "6|v2 |v3,v4,v5 (no const)|0.965|All\n",
       "7|v2 |v3,v4,v5,v6|0.958|v3,v4,v5,v6\n",
       "8|v2 |v3,v4,v5,v6 (no const)|0.976|All\n",
       "9|v2 |v3,v4,v5,v6,v7|0.96|v11,v4,v5,v6,v7\n",
       "10|v2 |v3,v4,v5,v6,v7 (no const)|0.977|v4,v5,v6,v7\n",
       "11|v2 |v3,v4,v5,v6,v7,v8|0.961|v11,v4,v5,v6,v7,v8\n",
       "12|v2 |v3,v4,v5,v6,v7,v8 (no const)|0.977|v4,v5,v6,v7,v8\n",
       "13|v2 |v3,v4,v5,v6,v7,v8,v9|0.98|v11,v3,v5,v6,v7,v8,v9\n",
       "14|v2 |v3,v4,v5,v6,v7,v8,v9 (no const)|0.988|v3,v5,v6,v7,v8,v9\n",
       "15|v2 |v3,v4,v5,v6,v7,v8,v9,v10|0.987|All\n",
       "16|v2 |v3,v4,v5,v6,v7,v8,v9,v10 (no const)|0.992|All\n",
       "17|v2 |v3,v4,v5,v6,v7,v8,v9,v10,v11|0.987|v11,v3,v4,v6,v7,v8,v9,v10,v11\n",
       "18|v2 |v3,v4,v5,v6,v7,v8,v9,v10,v11 (no const)|0.992|v3,v4,v6,v7,v8,v9,v10,v11\n"
      ],
      "text/plain": [
       "<IPython.core.display.Markdown object>"
      ]
     },
     "metadata": {},
     "output_type": "display_data"
    }
   ],
   "source": [
    "print_regression_experiments(2)"
   ]
  },
  {
   "cell_type": "code",
   "execution_count": 31,
   "metadata": {},
   "outputs": [
    {
     "name": "stdout",
     "output_type": "stream",
     "text": [
      "                            OLS Regression Results                            \n",
      "==============================================================================\n",
      "Dep. Variable:                     v2   R-squared:                       0.989\n",
      "Model:                            OLS   Adj. R-squared:                  0.989\n",
      "Method:                 Least Squares   F-statistic:                     8902.\n",
      "Date:                Tue, 20 Nov 2018   Prob (F-statistic):               0.00\n",
      "Time:                        19:52:54   Log-Likelihood:                -1355.9\n",
      "No. Observations:                 618   AIC:                             2724.\n",
      "Df Residuals:                     612   BIC:                             2750.\n",
      "Df Model:                           6                                         \n",
      "Covariance Type:            nonrobust                                         \n",
      "==============================================================================\n",
      "                 coef    std err          t      P>|t|      [0.025      0.975]\n",
      "------------------------------------------------------------------------------\n",
      "v3             0.5665      0.072      7.841      0.000       0.425       0.708\n",
      "v5             1.3477      0.056     23.986      0.000       1.237       1.458\n",
      "v6             0.0438      0.002     18.660      0.000       0.039       0.048\n",
      "v7            -0.6372      0.094     -6.785      0.000      -0.822      -0.453\n",
      "v8            -0.0772      0.007    -11.541      0.000      -0.090      -0.064\n",
      "v9             0.6080      0.023     26.854      0.000       0.564       0.652\n",
      "==============================================================================\n",
      "Omnibus:                      264.178   Durbin-Watson:                   1.991\n",
      "Prob(Omnibus):                  0.000   Jarque-Bera (JB):             3118.984\n",
      "Skew:                          -1.563   Prob(JB):                         0.00\n",
      "Kurtosis:                      13.553   Cond. No.                         171.\n",
      "==============================================================================\n",
      "\n",
      "Warnings:\n",
      "[1] Standard Errors assume that the covariance matrix of the errors is correctly specified.\n"
     ]
    },
    {
     "data": {
      "text/plain": [
       "<statsmodels.regression.linear_model.RegressionResultsWrapper at 0x7f951a4e00b8>"
      ]
     },
     "execution_count": 31,
     "metadata": {},
     "output_type": "execute_result"
    }
   ],
   "source": [
    "fit_and_display(2, [3, 5, 6, 7, 8, 9], constant=False)"
   ]
  },
  {
   "cell_type": "code",
   "execution_count": 15,
   "metadata": {},
   "outputs": [
    {
     "data": {
      "text/markdown": [
       "Expt. No.|DV |IVs | Adj. R^2|Significant IVs\n",
       "---|:---:|:---:|:---:|---\n",
       "1|v3 |v5|0.809|All\n",
       "2|v3 |v5 (no const)|0.902|All\n",
       "3|v3 |v5,v6|0.832|All\n",
       "4|v3 |v5,v6 (no const)|0.905|All\n",
       "5|v3 |v5,v6,v7|0.936|All\n",
       "6|v3 |v5,v6,v7 (no const)|0.97|All\n",
       "7|v3 |v5,v6,v7,v8|0.936|v10,v5,v6,v7\n",
       "8|v3 |v5,v6,v7,v8 (no const)|0.97|v5,v6,v7\n",
       "9|v3 |v5,v6,v7,v8,v9|0.938|v10,v5,v6,v7,v9\n",
       "10|v3 |v5,v6,v7,v8,v9 (no const)|0.971|v5,v6,v7,v9\n",
       "11|v3 |v5,v6,v7,v8,v9,v10|0.939|v10,v5,v6,v7,v9,v10\n",
       "12|v3 |v5,v6,v7,v8,v9,v10 (no const)|0.972|v5,v6,v7,v9,v10\n"
      ],
      "text/plain": [
       "<IPython.core.display.Markdown object>"
      ]
     },
     "metadata": {},
     "output_type": "display_data"
    }
   ],
   "source": [
    "print_regression_experiments(3)"
   ]
  },
  {
   "cell_type": "code",
   "execution_count": 32,
   "metadata": {},
   "outputs": [
    {
     "name": "stdout",
     "output_type": "stream",
     "text": [
      "                            OLS Regression Results                            \n",
      "==============================================================================\n",
      "Dep. Variable:                     v3   R-squared:                       0.971\n",
      "Model:                            OLS   Adj. R-squared:                  0.971\n",
      "Method:                 Least Squares   F-statistic:                     6898.\n",
      "Date:                Tue, 20 Nov 2018   Prob (F-statistic):               0.00\n",
      "Time:                        19:58:18   Log-Likelihood:                -1004.4\n",
      "No. Observations:                 618   AIC:                             2015.\n",
      "Df Residuals:                     615   BIC:                             2028.\n",
      "Df Model:                           3                                         \n",
      "Covariance Type:            nonrobust                                         \n",
      "==============================================================================\n",
      "                 coef    std err          t      P>|t|      [0.025      0.975]\n",
      "------------------------------------------------------------------------------\n",
      "v5             0.1793      0.023      7.717      0.000       0.134       0.225\n",
      "v6            -0.0105      0.001    -13.216      0.000      -0.012      -0.009\n",
      "v7             0.9759      0.026     37.264      0.000       0.924       1.027\n",
      "==============================================================================\n",
      "Omnibus:                      138.972   Durbin-Watson:                   2.081\n",
      "Prob(Omnibus):                  0.000   Jarque-Bera (JB):             2506.981\n",
      "Skew:                          -0.458   Prob(JB):                         0.00\n",
      "Kurtosis:                      12.824   Cond. No.                         85.5\n",
      "==============================================================================\n",
      "\n",
      "Warnings:\n",
      "[1] Standard Errors assume that the covariance matrix of the errors is correctly specified.\n"
     ]
    },
    {
     "data": {
      "text/plain": [
       "<statsmodels.regression.linear_model.RegressionResultsWrapper at 0x7f951a510940>"
      ]
     },
     "execution_count": 32,
     "metadata": {},
     "output_type": "execute_result"
    }
   ],
   "source": [
    "fit_and_display(3, [5, 6, 7], constant=False)"
   ]
  },
  {
   "cell_type": "code",
   "execution_count": 16,
   "metadata": {},
   "outputs": [
    {
     "data": {
      "text/markdown": [
       "Expt. No.|DV |IVs | Adj. R^2|Significant IVs\n",
       "---|:---:|:---:|:---:|---\n",
       "1|v5 |v7|0.809|v7\n",
       "2|v5 |v7 (no const)|0.901|All\n",
       "3|v5 |v7,v8|0.842|All\n",
       "4|v5 |v7,v8 (no const)|0.912|All\n",
       "5|v5 |v7,v8,v9|0.865|All\n",
       "6|v5 |v7,v8,v9 (no const)|0.923|All\n",
       "7|v5 |v7,v8,v9,v10|0.971|v11,v8,v9,v10\n",
       "8|v5 |v7,v8,v9,v10 (no const)|0.984|All\n",
       "9|v5 |v7,v8,v9,v10,v11|0.971|v11,v8,v9,v10\n",
       "10|v5 |v7,v8,v9,v10,v11 (no const)|0.984|v8,v9,v10\n"
      ],
      "text/plain": [
       "<IPython.core.display.Markdown object>"
      ]
     },
     "metadata": {},
     "output_type": "display_data"
    }
   ],
   "source": [
    "print_regression_experiments(5)"
   ]
  },
  {
   "cell_type": "code",
   "execution_count": 17,
   "metadata": {},
   "outputs": [
    {
     "data": {
      "text/markdown": [
       "Expt. No.|DV |IVs | Adj. R^2|Significant IVs\n",
       "---|:---:|:---:|:---:|---\n",
       "1|v6 |v7|0.809|All\n",
       "2|v6 |v7 (no const)|0.75|All\n",
       "3|v6 |v7,v8|0.864|All\n",
       "4|v6 |v7,v8 (no const)|0.864|All\n",
       "5|v6 |v7,v8,v9|0.865|All\n",
       "6|v6 |v7,v8,v9 (no const)|0.864|v7,v8\n",
       "7|v6 |v7,v8,v9,v14|0.891|All\n",
       "8|v6 |v7,v8,v9,v14 (no const)|0.897|All\n"
      ],
      "text/plain": [
       "<IPython.core.display.Markdown object>"
      ]
     },
     "metadata": {},
     "output_type": "display_data"
    }
   ],
   "source": [
    "print_regression_experiments(6)"
   ]
  },
  {
   "cell_type": "code",
   "execution_count": 18,
   "metadata": {},
   "outputs": [
    {
     "data": {
      "text/markdown": [
       "Expt. No.|DV |IVs | Adj. R^2|Significant IVs\n",
       "---|:---:|:---:|:---:|---\n",
       "1|v8 |v9|0.716|All\n",
       "2|v8 |v9 (no const)|0.745|All\n",
       "3|v8 |v9,v10|0.815|All\n",
       "4|v8 |v9,v10 (no const)|0.807|All\n",
       "5|v8 |v9,v10,v11|0.892|All\n",
       "6|v8 |v9,v10,v11 (no const)|0.902|v10,v11\n",
       "7|v8 |v9,v10,v11,v14|0.908|v14,v10,v11,v14\n",
       "8|v8 |v9,v10,v11,v14 (no const)|0.922|All\n"
      ],
      "text/plain": [
       "<IPython.core.display.Markdown object>"
      ]
     },
     "metadata": {},
     "output_type": "display_data"
    }
   ],
   "source": [
    "print_regression_experiments(8)"
   ]
  },
  {
   "cell_type": "markdown",
   "metadata": {},
   "source": [
    "The others may not be worth pursuing, seeing the drop in adj. R^2. Still, have to confirm"
   ]
  },
  {
   "cell_type": "code",
   "execution_count": 19,
   "metadata": {},
   "outputs": [
    {
     "data": {
      "text/markdown": [
       "Expt. No.|DV |IVs | Adj. R^2|Significant IVs\n",
       "---|:---:|:---:|:---:|---\n",
       "1|v4 |v5|0.885|v5\n",
       "2|v4 |v5 (no const)|0.937|All\n",
       "3|v4 |v5,v8|0.887|v5,v8\n",
       "4|v4 |v5,v8 (no const)|0.938|All\n",
       "5|v4 |v5,v8,v10|0.908|v10,v5,v10\n",
       "6|v4 |v5,v8,v10 (no const)|0.949|v5,v10\n"
      ],
      "text/plain": [
       "<IPython.core.display.Markdown object>"
      ]
     },
     "metadata": {},
     "output_type": "display_data"
    }
   ],
   "source": [
    "print_regression_experiments(4)"
   ]
  },
  {
   "cell_type": "code",
   "execution_count": 20,
   "metadata": {},
   "outputs": [
    {
     "data": {
      "text/markdown": [
       "Expt. No.|DV |IVs | Adj. R^2|Significant IVs\n",
       "---|:---:|:---:|:---:|---\n",
       "1|v7 |v8|0.761|All\n",
       "2|v7 |v8 (no const)|0.745|All\n",
       "3|v7 |v8,v9|0.901|All\n",
       "4|v7 |v8,v9 (no const)|0.933|All\n",
       "5|v7 |v8,v9,v10|0.904|All\n",
       "6|v7 |v8,v9,v10 (no const)|0.942|v9,v10\n"
      ],
      "text/plain": [
       "<IPython.core.display.Markdown object>"
      ]
     },
     "metadata": {},
     "output_type": "display_data"
    }
   ],
   "source": [
    "print_regression_experiments(7)"
   ]
  },
  {
   "cell_type": "code",
   "execution_count": 21,
   "metadata": {},
   "outputs": [
    {
     "data": {
      "text/markdown": [
       "Expt. No.|DV |IVs | Adj. R^2|Significant IVs\n",
       "---|:---:|:---:|:---:|---\n",
       "1|v9 |v10|0.676|All\n",
       "2|v9 |v10 (no const)|0.809|All\n",
       "3|v9 |v10,v11|0.768|All\n",
       "4|v9 |v10,v11 (no const)|0.848|All\n",
       "5|v9 |v10,v11,v14|0.811|All\n",
       "6|v9 |v10,v11,v14 (no const)|0.867|All\n"
      ],
      "text/plain": [
       "<IPython.core.display.Markdown object>"
      ]
     },
     "metadata": {},
     "output_type": "display_data"
    }
   ],
   "source": [
    "print_regression_experiments(9)"
   ]
  },
  {
   "cell_type": "code",
   "execution_count": 22,
   "metadata": {},
   "outputs": [
    {
     "data": {
      "text/markdown": [
       "Expt. No.|DV |IVs | Adj. R^2|Significant IVs\n",
       "---|:---:|:---:|:---:|---\n",
       "1|v11 |v14|0.656|All\n",
       "2|v11 |v14 (no const)|0.693|All\n"
      ],
      "text/plain": [
       "<IPython.core.display.Markdown object>"
      ]
     },
     "metadata": {},
     "output_type": "display_data"
    }
   ],
   "source": [
    "print_regression_experiments(11)"
   ]
  },
  {
   "cell_type": "markdown",
   "metadata": {},
   "source": [
    "In this subset, does the number of correlations affect the best adj. R^2? Quite probably yes."
   ]
  },
  {
   "cell_type": "code",
   "execution_count": 23,
   "metadata": {},
   "outputs": [
    {
     "data": {
      "image/png": "[encoded data removed]",
      "text/plain": [
       "<Figure size 432x288 with 1 Axes>"
      ]
     },
     "metadata": {
      "needs_background": "light"
     },
     "output_type": "display_data"
    }
   ],
   "source": [
    "x = [9, 9, 6, 5, 4, 4, 3, 3, 3, 1]\n",
    "y = [0.988, 0.992, 0.972, 0.984, 0.897, 0.922, 0.949, 0.942, 0.867, 0.693]\n",
    "\n",
    "plt.scatter(x, y);"
   ]
  },
  {
   "cell_type": "code",
   "execution_count": 33,
   "metadata": {},
   "outputs": [
    {
     "data": {
      "text/plain": [
       "(array([0.12546518, 0.74665417]),\n",
       " array([0.0145646]),\n",
       " 2,\n",
       " array([1.38410577, 0.29026061]),\n",
       " 2.220446049250313e-15)"
      ]
     },
     "execution_count": 33,
     "metadata": {},
     "output_type": "execute_result"
    }
   ],
   "source": [
    "np.polyfit(np.log(x), y, 1, full=True)"
   ]
  },
  {
   "cell_type": "code",
   "execution_count": 25,
   "metadata": {},
   "outputs": [
    {
     "data": {
      "image/png": "[encoded data removed]",
      "text/plain": [
       "<Figure size 432x288 with 1 Axes>"
      ]
     },
     "metadata": {
      "needs_background": "light"
     },
     "output_type": "display_data"
    }
   ],
   "source": [
    "plt.scatter(x, y);\n",
    "\n",
    "a = range(1, 10)\n",
    "b = [0.12546518 * np.log(t) + 0.74665417 for t in a]\n",
    "plt.plot(a, b)\n",
    "\n",
    "plt.xlabel('Number of correlated variables')\n",
    "plt.ylabel('Best adj. $R^2$')\n",
    "plt.show()"
   ]
  },
  {
   "cell_type": "code",
   "execution_count": null,
   "metadata": {},
   "outputs": [],
   "source": []
  }
 ],
 "metadata": {
  "kernelspec": {
   "display_name": "Python 3",
   "language": "python",
   "name": "python3"
  },
  "language_info": {
   "codemirror_mode": {
    "name": "ipython",
    "version": 3
   },
   "file_extension": ".py",
   "mimetype": "text/x-python",
   "name": "python",
   "nbconvert_exporter": "python",
   "pygments_lexer": "ipython3",
   "version": "3.7.1"
  }
 },
 "nbformat": 4,
 "nbformat_minor": 2
}
